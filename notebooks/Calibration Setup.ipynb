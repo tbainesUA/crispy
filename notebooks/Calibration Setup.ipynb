{
 "cells": [
  {
   "cell_type": "code",
   "execution_count": 5,
   "id": "03ac3689",
   "metadata": {},
   "outputs": [],
   "source": [
    "import numpy as np\n",
    "\n",
    "from crispy.crispy_core import IFS\n",
    "from crispy.psf import GaussianPSFCube"
   ]
  },
  {
   "cell_type": "markdown",
   "id": "a121e255",
   "metadata": {},
   "source": [
    "Attemping to setup the calibration features and intial IFS based on the work done by PIESCES."
   ]
  },
  {
   "cell_type": "code",
   "execution_count": 2,
   "id": "ba257a0d",
   "metadata": {},
   "outputs": [],
   "source": [
    "# IFS parameters\n",
    "R = 150 # spectral resolution\n",
    "q = 13e-6  # detector pixel pitch\n",
    "npix = 1024 # detector array format\n",
    "bw = 0.18\n",
    "lam_ifs = 660\n",
    "interlace = 2\n",
    "lenslet_sampling = 0.5\n",
    "nlens = 100\n",
    "pitch = 140e-6\n",
    "\n",
    "\n",
    "ifs = IFS(lam_ifs, nlens=nlens, interlace=2, npix=npix, R=R,)"
   ]
  },
  {
   "cell_type": "code",
   "execution_count": 3,
   "id": "f03a0749",
   "metadata": {},
   "outputs": [
    {
     "name": "stdout",
     "output_type": "stream",
     "text": [
      "[600.6 605.6 610.6 615.6 620.6 625.6 630.6 635.6 640.6 645.6 650.6 655.6\n",
      " 660.6 665.6 670.6 675.6 680.6 685.6 690.6 695.6 700.6 705.6 710.6 715.6\n",
      " 720.6]\n"
     ]
    }
   ],
   "source": [
    "lam_min = lam_ifs * (1 - bw/2.)\n",
    "lam_max = lam_ifs * (1 + bw/2.)\n",
    "step = 5\n",
    "lams_cal = np.arange(lam_min, lam_max+step, step)\n",
    "dlam=5\n",
    "print(lams_cal)"
   ]
  },
  {
   "cell_type": "code",
   "execution_count": 9,
   "id": "abb9cfe8",
   "metadata": {},
   "outputs": [],
   "source": [
    "psf = GaussianPSFCube([lams_cal[0]], lam_ifs, 2)"
   ]
  },
  {
   "cell_type": "code",
   "execution_count": 4,
   "id": "a189a6ac",
   "metadata": {},
   "outputs": [
    {
     "name": "stdout",
     "output_type": "stream",
     "text": [
      "<class 'crispy.psf.GaussianPSFCube'>\n",
      "<class 'list'>\n"
     ]
    },
    {
     "ename": "AttributeError",
     "evalue": "'list' object has no attribute 'map_psf'",
     "output_type": "error",
     "traceback": [
      "\u001b[1;31m---------------------------------------------------------------------------\u001b[0m",
      "\u001b[1;31mAttributeError\u001b[0m                            Traceback (most recent call last)",
      "\u001b[1;32m<ipython-input-4-263586c1d8a1>\u001b[0m in \u001b[0;36m<module>\u001b[1;34m\u001b[0m\n\u001b[1;32m----> 1\u001b[1;33m \u001b[0miamges\u001b[0m \u001b[1;33m=\u001b[0m \u001b[1;33m[\u001b[0m\u001b[0mifs\u001b[0m\u001b[1;33m.\u001b[0m\u001b[0mpropagate_main\u001b[0m\u001b[1;33m(\u001b[0m\u001b[1;33m[\u001b[0m\u001b[0mlam\u001b[0m\u001b[1;33m]\u001b[0m\u001b[1;33m,\u001b[0m \u001b[0mdlam\u001b[0m\u001b[1;33m=\u001b[0m\u001b[0mdlam\u001b[0m\u001b[1;33m,\u001b[0m \u001b[0mparallel\u001b[0m\u001b[1;33m=\u001b[0m\u001b[1;32mFalse\u001b[0m\u001b[1;33m)\u001b[0m \u001b[1;32mfor\u001b[0m \u001b[0mlam\u001b[0m \u001b[1;32min\u001b[0m \u001b[0mlams_cal\u001b[0m\u001b[1;33m]\u001b[0m\u001b[1;33m\u001b[0m\u001b[1;33m\u001b[0m\u001b[0m\n\u001b[0m\u001b[0;32m      2\u001b[0m \u001b[1;33m\u001b[0m\u001b[0m\n",
      "\u001b[1;32m<ipython-input-4-263586c1d8a1>\u001b[0m in \u001b[0;36m<listcomp>\u001b[1;34m(.0)\u001b[0m\n\u001b[1;32m----> 1\u001b[1;33m \u001b[0miamges\u001b[0m \u001b[1;33m=\u001b[0m \u001b[1;33m[\u001b[0m\u001b[0mifs\u001b[0m\u001b[1;33m.\u001b[0m\u001b[0mpropagate_main\u001b[0m\u001b[1;33m(\u001b[0m\u001b[1;33m[\u001b[0m\u001b[0mlam\u001b[0m\u001b[1;33m]\u001b[0m\u001b[1;33m,\u001b[0m \u001b[0mdlam\u001b[0m\u001b[1;33m=\u001b[0m\u001b[0mdlam\u001b[0m\u001b[1;33m,\u001b[0m \u001b[0mparallel\u001b[0m\u001b[1;33m=\u001b[0m\u001b[1;32mFalse\u001b[0m\u001b[1;33m)\u001b[0m \u001b[1;32mfor\u001b[0m \u001b[0mlam\u001b[0m \u001b[1;32min\u001b[0m \u001b[0mlams_cal\u001b[0m\u001b[1;33m]\u001b[0m\u001b[1;33m\u001b[0m\u001b[1;33m\u001b[0m\u001b[0m\n\u001b[0m\u001b[0;32m      2\u001b[0m \u001b[1;33m\u001b[0m\u001b[0m\n",
      "\u001b[1;32mc:\\users\\tbain\\onedrive\\desktop\\github\\crispy\\crispy\\crispy_core.py\u001b[0m in \u001b[0;36mpropagate_main\u001b[1;34m(self, lam_bin_centers, image_test, lam_bin_edges, dlam, parallel)\u001b[0m\n\u001b[0;32m    276\u001b[0m             \u001b[1;32mfor\u001b[0m \u001b[0mi\u001b[0m \u001b[1;32min\u001b[0m \u001b[0mrange\u001b[0m\u001b[1;33m(\u001b[0m\u001b[0mnlam\u001b[0m\u001b[1;33m)\u001b[0m\u001b[1;33m:\u001b[0m\u001b[1;33m\u001b[0m\u001b[1;33m\u001b[0m\u001b[0m\n\u001b[0;32m    277\u001b[0m                 \u001b[0mlam_min\u001b[0m\u001b[1;33m,\u001b[0m \u001b[0mlam_max\u001b[0m \u001b[1;33m=\u001b[0m \u001b[0mlam_bin_edges\u001b[0m\u001b[1;33m[\u001b[0m\u001b[0mi\u001b[0m\u001b[1;33m]\u001b[0m\u001b[1;33m,\u001b[0m \u001b[0mlam_bin_edges\u001b[0m\u001b[1;33m[\u001b[0m\u001b[0mi\u001b[0m\u001b[1;33m+\u001b[0m\u001b[1;36m1\u001b[0m\u001b[1;33m]\u001b[0m\u001b[1;33m\u001b[0m\u001b[1;33m\u001b[0m\u001b[0m\n\u001b[1;32m--> 278\u001b[1;33m                 \u001b[0mimage\u001b[0m \u001b[1;33m=\u001b[0m \u001b[0mself\u001b[0m\u001b[1;33m.\u001b[0m\u001b[0mpropagate_mono\u001b[0m\u001b[1;33m(\u001b[0m\u001b[0mlam_min\u001b[0m\u001b[1;33m,\u001b[0m \u001b[0mlam_max\u001b[0m\u001b[1;33m,\u001b[0m \u001b[0mpsf_cube\u001b[0m\u001b[1;33m,\u001b[0m \u001b[0mimage_plane\u001b[0m\u001b[1;33m=\u001b[0m\u001b[0mimage_test\u001b[0m\u001b[1;33m)\u001b[0m\u001b[1;33m\u001b[0m\u001b[1;33m\u001b[0m\u001b[0m\n\u001b[0m\u001b[0;32m    279\u001b[0m                 \u001b[0mimages\u001b[0m\u001b[1;33m.\u001b[0m\u001b[0mappend\u001b[0m\u001b[1;33m(\u001b[0m\u001b[0mimage\u001b[0m \u001b[1;33m*\u001b[0m \u001b[1;33m(\u001b[0m\u001b[0mlam_max\u001b[0m \u001b[1;33m-\u001b[0m \u001b[0mlam_min\u001b[0m\u001b[1;33m)\u001b[0m\u001b[1;33m)\u001b[0m\u001b[1;33m\u001b[0m\u001b[1;33m\u001b[0m\u001b[0m\n\u001b[0;32m    280\u001b[0m             \u001b[0mimages\u001b[0m \u001b[1;33m=\u001b[0m \u001b[0mnp\u001b[0m\u001b[1;33m.\u001b[0m\u001b[0marray\u001b[0m\u001b[1;33m(\u001b[0m\u001b[0mimages\u001b[0m\u001b[1;33m)\u001b[0m\u001b[1;33m\u001b[0m\u001b[1;33m\u001b[0m\u001b[0m\n",
      "\u001b[1;32mc:\\users\\tbain\\onedrive\\desktop\\github\\crispy\\crispy\\crispy_core.py\u001b[0m in \u001b[0;36mpropagate_mono\u001b[1;34m(self, lammin, lammax, psfs, image_plane, nlam)\u001b[0m\n\u001b[0;32m    212\u001b[0m                 \u001b[1;31m# print(type(psf))\u001b[0m\u001b[1;33m\u001b[0m\u001b[1;33m\u001b[0m\u001b[1;33m\u001b[0m\u001b[0m\n\u001b[0;32m    213\u001b[0m                 \u001b[1;31m# print(psf.shape)\u001b[0m\u001b[1;33m\u001b[0m\u001b[1;33m\u001b[0m\u001b[1;33m\u001b[0m\u001b[0m\n\u001b[1;32m--> 214\u001b[1;33m                 \u001b[0mpsflet\u001b[0m \u001b[1;33m=\u001b[0m \u001b[0mpsf\u001b[0m\u001b[1;33m.\u001b[0m\u001b[0mmap_psf\u001b[0m\u001b[1;33m(\u001b[0m\u001b[1;33m[\u001b[0m\u001b[0my_interp\u001b[0m\u001b[1;33m,\u001b[0m \u001b[0mx_interp\u001b[0m\u001b[1;33m]\u001b[0m\u001b[1;33m)\u001b[0m\u001b[1;33m\u001b[0m\u001b[1;33m\u001b[0m\u001b[0m\n\u001b[0m\u001b[0;32m    215\u001b[0m \u001b[1;33m\u001b[0m\u001b[0m\n\u001b[0;32m    216\u001b[0m \u001b[1;33m\u001b[0m\u001b[0m\n",
      "\u001b[1;31mAttributeError\u001b[0m: 'list' object has no attribute 'map_psf'"
     ]
    }
   ],
   "source": [
    "iamges = [ifs.propagate_main([lam], dlam=dlam, parallel=False) for lam in lams_cal]\n",
    "    "
   ]
  },
  {
   "cell_type": "code",
   "execution_count": null,
   "id": "a9240057",
   "metadata": {},
   "outputs": [],
   "source": []
  }
 ],
 "metadata": {
  "kernelspec": {
   "display_name": "Python 3",
   "language": "python",
   "name": "python3"
  },
  "language_info": {
   "codemirror_mode": {
    "name": "ipython",
    "version": 3
   },
   "file_extension": ".py",
   "mimetype": "text/x-python",
   "name": "python",
   "nbconvert_exporter": "python",
   "pygments_lexer": "ipython3",
   "version": "3.8.8"
  }
 },
 "nbformat": 4,
 "nbformat_minor": 5
}
