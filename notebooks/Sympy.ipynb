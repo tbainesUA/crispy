{
 "cells": [
  {
   "cell_type": "code",
   "execution_count": 1,
   "id": "e53c562b",
   "metadata": {},
   "outputs": [],
   "source": [
    "import sympy"
   ]
  },
  {
   "cell_type": "code",
   "execution_count": 11,
   "id": "8e04ab6b",
   "metadata": {},
   "outputs": [],
   "source": [
    "x, y, z = sympy.symbols('x,y,z')\n",
    "x0, x1, y0, y1, z0, z1 = sympy.symbols('x0, x1, y0, y1, z0, z1')\n",
    "c000, c100, c001, c101, c010, c110, c011, c111 = sympy.symbols(\"c_000, c_100, \\\n",
    "                                                          c_001, c_101, \\\n",
    "                                                          c_010, c_110, \\\n",
    "                                                          c_011, c_111\")\n",
    "x_d = (x - x0) / (x1-x0)\n",
    "y_d = (y - y0) / (y1-y0)\n",
    "z_d = (z - z0) / (z1-z0)"
   ]
  },
  {
   "cell_type": "code",
   "execution_count": 12,
   "id": "cefb7165",
   "metadata": {},
   "outputs": [
    {
     "data": {
      "text/latex": [
       "$\\displaystyle \\frac{x - x_{0}}{- x_{0} + x_{1}}$"
      ],
      "text/plain": [
       "(x - x0)/(-x0 + x1)"
      ]
     },
     "execution_count": 12,
     "metadata": {},
     "output_type": "execute_result"
    }
   ],
   "source": [
    "x_d"
   ]
  },
  {
   "cell_type": "code",
   "execution_count": 4,
   "id": "4a4d35e4",
   "metadata": {},
   "outputs": [
    {
     "data": {
      "text/latex": [
       "$\\displaystyle c_{000}$"
      ],
      "text/plain": [
       "c_000"
      ]
     },
     "execution_count": 4,
     "metadata": {},
     "output_type": "execute_result"
    }
   ],
   "source": [
    "c000"
   ]
  },
  {
   "cell_type": "code",
   "execution_count": 8,
   "id": "88bda77c",
   "metadata": {},
   "outputs": [],
   "source": [
    "c00 = c000 * (1-x_d) + c100* (x_d)"
   ]
  },
  {
   "cell_type": "code",
   "execution_count": 9,
   "id": "d46c2f2e",
   "metadata": {},
   "outputs": [
    {
     "data": {
      "text/latex": [
       "$\\displaystyle c_{000} \\left(- \\frac{x - x_{0}}{- x_{0} + x_{1}} + 1\\right) + \\frac{c_{100} \\left(x - x_{0}\\right)}{- x_{0} + x_{1}}$"
      ],
      "text/plain": [
       "c_000*(-(x - x0)/(-x0 + x1) + 1) + c_100*(x - x0)/(-x0 + x1)"
      ]
     },
     "execution_count": 9,
     "metadata": {},
     "output_type": "execute_result"
    }
   ],
   "source": [
    "c00"
   ]
  },
  {
   "cell_type": "code",
   "execution_count": 13,
   "id": "082ed82c",
   "metadata": {},
   "outputs": [
    {
     "data": {
      "text/plain": [
       "8"
      ]
     },
     "execution_count": 13,
     "metadata": {},
     "output_type": "execute_result"
    }
   ],
   "source": [
    "2**3"
   ]
  },
  {
   "cell_type": "code",
   "execution_count": 14,
   "id": "3381c9ac",
   "metadata": {},
   "outputs": [
    {
     "data": {
      "text/plain": [
       "64"
      ]
     },
     "execution_count": 14,
     "metadata": {},
     "output_type": "execute_result"
    }
   ],
   "source": [
    "2**6"
   ]
  },
  {
   "cell_type": "code",
   "execution_count": null,
   "id": "75b706b0",
   "metadata": {},
   "outputs": [],
   "source": []
  }
 ],
 "metadata": {
  "kernelspec": {
   "display_name": "Python 3",
   "language": "python",
   "name": "python3"
  },
  "language_info": {
   "codemirror_mode": {
    "name": "ipython",
    "version": 3
   },
   "file_extension": ".py",
   "mimetype": "text/x-python",
   "name": "python",
   "nbconvert_exporter": "python",
   "pygments_lexer": "ipython3",
   "version": "3.8.8"
  }
 },
 "nbformat": 4,
 "nbformat_minor": 5
}
