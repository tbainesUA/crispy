{
 "cells": [
  {
   "cell_type": "code",
   "execution_count": 4,
   "id": "8e0891ca-b2a1-411f-a7ac-1566fde7369e",
   "metadata": {},
   "outputs": [],
   "source": [
    "import numpy as np \n",
    "\n",
    "import line_profiler\n",
    "import atexit\n",
    "from numba import njit"
   ]
  },
  {
   "cell_type": "code",
   "execution_count": 2,
   "id": "7b4c13f1-b8f1-4be4-a1f7-a90a1a44c713",
   "metadata": {},
   "outputs": [],
   "source": [
    "profile = line_profiler.LineProfiler()\n",
    "atexit.register(profile.print_stats)\n",
    "\n",
    "import time"
   ]
  },
  {
   "cell_type": "code",
   "execution_count": 5,
   "id": "1315b906-5aed-44b4-b3da-520941260b27",
   "metadata": {},
   "outputs": [],
   "source": [
    "from scipy.interpolate.interpnd import _ndim_coords_from_arrays\n",
    "import itertools\n",
    "class RegularGridInterpolatorOG:\n",
    "   \n",
    "    # this class is based on code originally programmed by Johannes Buchner,\n",
    "    # see https://github.com/JohannesBuchner/regulargrid\n",
    "    \n",
    "    def __init__(self, points, values, method=\"linear\", bounds_error=True,\n",
    "                 fill_value=np.nan):\n",
    "        if method not in [\"linear\", \"nearest\", \"numba\"]:\n",
    "            raise ValueError(\"Method '%s' is not defined\" % method)\n",
    "        self.method = method\n",
    "        self.bounds_error = bounds_error\n",
    "\n",
    "        if not hasattr(values, 'ndim'):\n",
    "            # allow reasonable duck-typed values\n",
    "            values = np.asarray(values)\n",
    "\n",
    "        if len(points) > values.ndim:\n",
    "            raise ValueError(\"There are %d point arrays, but values has %d \"\n",
    "                             \"dimensions\" % (len(points), values.ndim))\n",
    "\n",
    "        if hasattr(values, 'dtype') and hasattr(values, 'astype'):\n",
    "            if not np.issubdtype(values.dtype, np.inexact):\n",
    "                values = values.astype(float)\n",
    "\n",
    "        self.fill_value = fill_value\n",
    "        if fill_value is not None:\n",
    "            fill_value_dtype = np.asarray(fill_value).dtype\n",
    "            if (hasattr(values, 'dtype') and not\n",
    "                    np.can_cast(fill_value_dtype, values.dtype,\n",
    "                                casting='same_kind')):\n",
    "                raise ValueError(\"fill_value must be either 'None' or \"\n",
    "                                 \"of a type compatible with values\")\n",
    "\n",
    "        for i, p in enumerate(points):\n",
    "            if not np.all(np.diff(p) > 0.):\n",
    "                raise ValueError(\"The points in dimension %d must be strictly \"\n",
    "                                 \"ascending\" % i)\n",
    "            if not np.asarray(p).ndim == 1:\n",
    "                raise ValueError(\"The points in dimension %d must be \"\n",
    "                                 \"1-dimensional\" % i)\n",
    "            if not values.shape[i] == len(p):\n",
    "                raise ValueError(\"There are %d points and %d values in \"\n",
    "                                 \"dimension %d\" % (len(p), values.shape[i], i))\n",
    "        self.grid = tuple([np.asarray(p) for p in points])\n",
    "        self.values = values\n",
    "\n",
    "    def __call__(self, xi, method=None):\n",
    "        \"\"\"\n",
    "        Interpolation at coordinates\n",
    "        Parameters\n",
    "        ----------\n",
    "        xi : ndarray of shape (..., ndim)\n",
    "            The coordinates to sample the gridded data at\n",
    "        method : str\n",
    "            The method of interpolation to perform. Supported are \"linear\" and\n",
    "            \"nearest\".\n",
    "        \"\"\"\n",
    "        method = self.method if method is None else method\n",
    "        if method not in [\"linear\", \"nearest\", \"numba\"]:\n",
    "            raise ValueError(\"Method '%s' is not defined\" % method)\n",
    "\n",
    "        ndim = len(self.grid)\n",
    "        xi = _ndim_coords_from_arrays(xi, ndim=ndim)\n",
    "        if xi.shape[-1] != len(self.grid):\n",
    "            raise ValueError(\"The requested sample points xi have dimension \"\n",
    "                             \"%d, but this RegularGridInterpolator has \"\n",
    "                             \"dimension %d\" % (xi.shape[1], ndim))\n",
    "\n",
    "        xi_shape = xi.shape\n",
    "        xi = xi.reshape(-1, xi_shape[-1])\n",
    "\n",
    "        if self.bounds_error:\n",
    "            for i, p in enumerate(xi.T):\n",
    "                if not np.logical_and(np.all(self.grid[i][0] <= p),\n",
    "                                      np.all(p <= self.grid[i][-1])):\n",
    "                    raise ValueError(\"One of the requested xi is out of bounds \"\n",
    "                                     \"in dimension %d\" % i)\n",
    "                    \n",
    "#         print(xi.T)\n",
    "#         t_1 = time.time()\n",
    "        indices, norm_distances, out_of_bounds = self._find_indices(xi.T)\n",
    "#         t_2 = time.time()\n",
    "#         print(t_2 - t_1, 's')\n",
    "        if method == \"linear\":\n",
    "            result = self._evaluate_linear(indices,\n",
    "                                           norm_distances,\n",
    "                                           out_of_bounds)\n",
    "        elif method == \"nearest\":\n",
    "            result = self._evaluate_nearest(indices,\n",
    "                                            norm_distances,\n",
    "                                            out_of_bounds)\n",
    "        elif method == 'numba':\n",
    "            values = self.values\n",
    "            edges = list(itertools.product(*[[i, i + 1] for i in indices]))\n",
    "            result = evaluate_linear_nb(values, \n",
    "                                        edges,\n",
    "                                        indices,\n",
    "                                        norm_distances,\n",
    "                                        out_of_bounds)\n",
    "            \n",
    "        if not self.bounds_error and self.fill_value is not None:\n",
    "            result[out_of_bounds] = self.fill_value\n",
    "\n",
    "        return result.reshape(xi_shape[:-1] + self.values.shape[ndim:])\n",
    "\n",
    "    def _evaluate_linear(self, indices, norm_distances, out_of_bounds):\n",
    "        # slice for broadcasting over trailing dimensions in self.values\n",
    "        vslice = (slice(None),) + (None,)*(self.values.ndim - len(indices))\n",
    "#         print(vslice)\n",
    "        # find relevant values\n",
    "        # each i and i+1 represents a edge\n",
    "        edges = itertools.product(*[[i, i + 1] for i in indices])\n",
    "#         print(indices)\n",
    "#         print(*list(edges), sep='\\n')\n",
    "  \n",
    "        values = 0.\n",
    "        for edge_indices in edges:\n",
    "#             print(a,*edge_indices, sep='\\n')\n",
    "\n",
    "#             weight=np.product([np.where(ei == i, 1 - yi, yi) for ei, i, yi in zip(edge_indices, indices, norm_distances)], axis=0)\n",
    "            weight = 1.\n",
    "            for ei, i, yi in zip(edge_indices, indices, norm_distances):\n",
    "                weight *= np.where(ei == i, 1 - yi, yi)\n",
    "#             print(weight)\n",
    "#             print(np.product([np.where(ei == i, 1 - yi, yi) for ei, i, yi in zip(edge_indices, indices, norm_distances)], axis=0))\n",
    "#             print(weight)\n",
    "#             print(edge_indices)\n",
    "#             print(self.values[edge_indices])\n",
    "            values += self.values[edge_indices] * weight[vslice]\n",
    "        return values\n",
    "\n",
    "    def _evaluate_nearest(self, indices, norm_distances, out_of_bounds):\n",
    "        idx_res = [np.where(yi <= .5, i, i + 1)\n",
    "                   for i, yi in zip(indices, norm_distances)]\n",
    "        return self.values[tuple(idx_res)]\n",
    "\n",
    "    def __find_indices(self, xi):\n",
    "        # find relevant edges between which xi are situated\n",
    "        indices = []\n",
    "        # compute distance to lower edge in unity units\n",
    "        norm_distances = []\n",
    "        # check for out of bounds xi\n",
    "        out_of_bounds = np.zeros((xi.shape[1]), dtype=bool)\n",
    "        # iterate through dimensions\n",
    "#         print(list(map(np.shape, self.grid)))\n",
    "        grid_new = list(map(lambda x: x.reshape(-1,1), self.grid))\n",
    "        for x, grid in zip(xi, grid_new):\n",
    "#             i = np.searchsorted(grid, x) - 1\n",
    "            i = np.sum(grid < x, axis=0)-1\n",
    "            i[i < 0] = 0\n",
    "            i[i > grid.size - 2] = grid.size - 2\n",
    "#             print(i, np.sum(grid.reshape(-1,1) < x, axis=0)-1)\n",
    "\n",
    "            indices.append(i)\n",
    "            norm_distances.append((x - grid.ravel()[i]) /\n",
    "                                  (grid.ravel()[i + 1] - grid.ravel()[i]))\n",
    "            if not self.bounds_error:\n",
    "                out_of_bounds += x < grid[0]\n",
    "                out_of_bounds += x > grid[-1]\n",
    "#         print(indices)\n",
    "#         print(norm_distances)\n",
    "        return indices, norm_distances, out_of_bounds\n",
    "    \n",
    "    def _find_indices(self, xi):\n",
    "        # find relevant edges between which xi are situated\n",
    "        indices = []\n",
    "        # compute distance to lower edge in unity units\n",
    "        norm_distances = []\n",
    "        # check for out of bounds xi\n",
    "        out_of_bounds = np.zeros((xi.shape[1]), dtype=bool)\n",
    "        # iterate through dimensions\n",
    "        for x, grid in zip(xi, self.grid):\n",
    "            i = np.searchsorted(grid, x) - 1\n",
    "            i[i < 0] = 0\n",
    "            i[i > grid.size - 2] = grid.size - 2\n",
    "            indices.append(i)\n",
    "            norm_distances.append((x - grid[i]) /\n",
    "                                  (grid[i + 1] - grid[i]))\n",
    "            if not self.bounds_error:\n",
    "                out_of_bounds += x < grid[0]\n",
    "                out_of_bounds += x > grid[-1]\n",
    "#         print(indices)\n",
    "#         print(norm_distances)\n",
    "        return indices, norm_distances, out_of_bounds\n",
    "    \n",
    "# @njit \n",
    "# def evaluate_linear_nb(values, edges, indices, norm_distances, out_of_bounds):\n",
    "#         # slice for broadcasting over trailing dimensions in self.values\n",
    "# #         vslice = (slice(None),) + (None,)*(values.ndim - len(indices))\n",
    "#         # find relevant values\n",
    "#         # each i and i+1 represents a edge\n",
    "        \n",
    "# #         print(list(edges))\n",
    "  \n",
    "#         values = 0.\n",
    "#         for edge_indices in edges:\n",
    "# #             print(edge_indices)\n",
    "#             weight = 1.\n",
    "#             for ei, i, yi in zip(edge_indices, indices, norm_distances):\n",
    "#                 weight *= np.where(ei == i, 1 - yi, yi)\n",
    "#             values += np.asarray(values[edge_indices]) * weight[:, None, None]\n",
    "#         return values"
   ]
  },
  {
   "cell_type": "code",
   "execution_count": 6,
   "id": "f1cb0d9b-2a7b-4d63-b936-8cc40a135363",
   "metadata": {},
   "outputs": [],
   "source": [
    "def f(x, y, z):\n",
    "    return 2 * x**3 + 3 * y**2 - z"
   ]
  },
  {
   "cell_type": "code",
   "execution_count": 7,
   "id": "e2facd37-83a2-4161-b4d1-fb79f89acda2",
   "metadata": {},
   "outputs": [
    {
     "name": "stderr",
     "output_type": "stream",
     "text": [
      "C:\\Users\\tbain\\anaconda3\\lib\\site-packages\\numpy\\core\\_asarray.py:102: VisibleDeprecationWarning: Creating an ndarray from ragged nested sequences (which is a list-or-tuple of lists-or-tuples-or ndarrays with different lengths or shapes) is deprecated. If you meant to do this, you must specify 'dtype=object' when creating the ndarray.\n",
      "  return array(a, dtype, copy=False, order=order)\n"
     ]
    },
    {
     "data": {
      "text/plain": [
       "array([125.63188511, 146.09495553])"
      ]
     },
     "execution_count": 7,
     "metadata": {},
     "output_type": "execute_result"
    }
   ],
   "source": [
    "n = 10\n",
    "x = np.linspace(1, 4, n+10)\n",
    "y = np.linspace(4, 7, n)\n",
    "z = np.linspace(7, 9, n)\n",
    "xg, yg ,zg = np.meshgrid(x, y, z, indexing='ij', sparse=True)\n",
    "data = f(xg, yg, zg)\n",
    "\n",
    "my_interpolating_function = RegularGridInterpolatorOG((x, y, z), data)\n",
    "\n",
    "pts = np.array([[2.1, 6.2, 8.3], \n",
    "                [3.3, 5.2, 7.1]])\n",
    "\n",
    "# pts = np.array([[2.1, 6.2, 8.3], \n",
    "#                 [3.3, 5.2, 7.1],\n",
    "#                 [2.1, 6.2, 8.3], \n",
    "#                 [3.3, 5.2, 7.1],\n",
    "#                 [2.1, 6.2, 8.3], \n",
    "#                 [3.3, 5.2, 7.1],\n",
    "#                 [2.1, 6.2, 8.3], \n",
    "#                 [3.3, 5.2, 7.1],\n",
    "#                 [2.1, 6.2, 8.3], \n",
    "#                 [3.3, 5.2, 7.1],\n",
    "#                 [2.1, 6.2, 8.3], \n",
    "#                 [3.3, 5.2, 7.1],\n",
    "#                 [2.1, 6.2, 8.3], \n",
    "#                 [3.3, 5.2, 7.1],\n",
    "#                 [2.1, 6.2, 8.3], \n",
    "#                 [3.3, 5.2, 7.1],\n",
    "#                 [2.1, 6.2, 8.3], \n",
    "#                 [3.3, 5.2, 7.1],\n",
    "#                 [2.1, 6.2, 8.3], \n",
    "#                 [3.3, 5.2, 7.1],\n",
    "#                 [2.1, 6.2, 8.3], \n",
    "#                 [3.3, 5.2, 7.1],\n",
    "#                 [2.1, 6.2, 8.3], \n",
    "#                 [3.3, 5.2, 7.1],\n",
    "#                 [2.1, 6.2, 8.3], \n",
    "#                 [3.3, 5.2, 7.1],\n",
    "#                 [2.1, 6.2, 8.3], \n",
    "#                 [3.3, 5.2, 7.1],\n",
    "#                 [2.1, 6.2, 8.3], \n",
    "#                 [3.3, 5.2, 7.1]])\n",
    "\n",
    "grid = np.asarray([x,y,z])\n",
    "\n",
    "my_interpolating_function(pts)"
   ]
  },
  {
   "cell_type": "code",
   "execution_count": 8,
   "id": "a8d7a2d1",
   "metadata": {},
   "outputs": [
    {
     "name": "stdout",
     "output_type": "stream",
     "text": [
      "[125.542 145.894]\n",
      "[125.63188511 146.09495553]\n"
     ]
    }
   ],
   "source": [
    "y_true = f(*pts.T)\n",
    "y_predict = my_interpolating_function(pts)\n",
    "\n",
    "print(y_true)\n",
    "print(y_predict)"
   ]
  },
  {
   "cell_type": "code",
   "execution_count": 36,
   "id": "f287d2e4",
   "metadata": {},
   "outputs": [
    {
     "data": {
      "text/plain": [
       "array([0.08988511, 0.20095553])"
      ]
     },
     "execution_count": 36,
     "metadata": {},
     "output_type": "execute_result"
    }
   ],
   "source": [
    "np.abs(y_true - y_predict)"
   ]
  },
  {
   "cell_type": "code",
   "execution_count": 28,
   "id": "b05ae6fe",
   "metadata": {},
   "outputs": [
    {
     "name": "stdout",
     "output_type": "stream",
     "text": [
      "[125.542 145.894]\n",
      "[125.93588015 146.12118687]\n"
     ]
    }
   ],
   "source": [
    "y_predict = 10**my_interpolating_function_log(np.log10(pts))\n",
    "\n",
    "print(y_true)\n",
    "print(y_predict)"
   ]
  },
  {
   "cell_type": "code",
   "execution_count": 29,
   "id": "3d5b1d4a",
   "metadata": {},
   "outputs": [
    {
     "data": {
      "text/plain": [
       "array([0.00313744, 0.00155721])"
      ]
     },
     "execution_count": 29,
     "metadata": {},
     "output_type": "execute_result"
    }
   ],
   "source": [
    "np.abs(y_true - y_predict) / y_true"
   ]
  },
  {
   "cell_type": "code",
   "execution_count": 25,
   "id": "9bf7fed7",
   "metadata": {},
   "outputs": [],
   "source": [
    "my_interpolating_function_log = RegularGridInterpolatorOG((np.log10(x), np.log10(y), np.log10(z)), np.log10(data))"
   ]
  },
  {
   "cell_type": "code",
   "execution_count": 217,
   "id": "0fd5dea7",
   "metadata": {},
   "outputs": [
    {
     "data": {
      "text/plain": [
       "array([125.54203151, 145.89401799])"
      ]
     },
     "execution_count": 217,
     "metadata": {},
     "output_type": "execute_result"
    }
   ],
   "source": [
    "10**my_interpolating_function_log(np.log10(pts))"
   ]
  },
  {
   "cell_type": "code",
   "execution_count": 31,
   "id": "0bba9d14",
   "metadata": {},
   "outputs": [
    {
     "name": "stderr",
     "output_type": "stream",
     "text": [
      "<ipython-input-31-9887dea5415b>:2: MatplotlibDeprecationWarning: shading='flat' when X and Y have the same dimensions as C is deprecated since 3.3.  Either specify the corners of the quadrilaterals with X and Y, or pass shading='auto', 'nearest' or 'gouraud', or set rcParams['pcolor.shading'].  This will become an error two minor releases later.\n",
      "  plt.pcolormesh(x, y, np.log10(data[:,:,0]))\n"
     ]
    },
    {
     "data": {
      "text/plain": [
       "<matplotlib.collections.QuadMesh at 0x2a3472efca0>"
      ]
     },
     "execution_count": 31,
     "metadata": {},
     "output_type": "execute_result"
    },
    {
     "data": {
      "image/png": "[encoded data removed]",
      "text/plain": [
       "<Figure size 432x288 with 1 Axes>"
      ]
     },
     "metadata": {
      "needs_background": "light"
     },
     "output_type": "display_data"
    }
   ],
   "source": [
    "import matplotlib.pyplot as plt\n",
    "plt.pcolormesh(x, y, np.log10(data[:,:,0]))"
   ]
  },
  {
   "cell_type": "code",
   "execution_count": 32,
   "id": "3d6bb565",
   "metadata": {},
   "outputs": [
    {
     "data": {
      "image/png": "[encoded data removed]",
      "text/plain": [
       "<Figure size 432x288 with 1 Axes>"
      ]
     },
     "metadata": {
      "needs_background": "light"
     },
     "output_type": "display_data"
    },
    {
     "data": {
      "image/png": "[encoded data removed]",
      "text/plain": [
       "<Figure size 432x288 with 1 Axes>"
      ]
     },
     "metadata": {
      "needs_background": "light"
     },
     "output_type": "display_data"
    },
    {
     "data": {
      "image/png": "[encoded data removed]",
      "text/plain": [
       "<Figure size 432x288 with 1 Axes>"
      ]
     },
     "metadata": {
      "needs_background": "light"
     },
     "output_type": "display_data"
    }
   ],
   "source": [
    "plt.plot(x, data[:,0,0])\n",
    "plt.xscale('log')\n",
    "plt.yscale('log')\n",
    "plt.show()\n",
    "\n",
    "plt.plot(y, data[0,:,0])\n",
    "plt.xscale('log')\n",
    "plt.yscale('log')\n",
    "plt.show()\n",
    "\n",
    "plt.plot(z, data[0,0,:])\n",
    "plt.xscale('log')\n",
    "plt.yscale('log')\n",
    "plt.show()"
   ]
  },
  {
   "cell_type": "code",
   "execution_count": null,
   "id": "b2b5a97a",
   "metadata": {},
   "outputs": [],
   "source": []
  },
  {
   "cell_type": "code",
   "execution_count": null,
   "id": "3bb592df",
   "metadata": {},
   "outputs": [],
   "source": []
  },
  {
   "cell_type": "code",
   "execution_count": null,
   "id": "96751f07",
   "metadata": {},
   "outputs": [],
   "source": []
  },
  {
   "cell_type": "code",
   "execution_count": null,
   "id": "74cab561",
   "metadata": {},
   "outputs": [],
   "source": []
  },
  {
   "cell_type": "code",
   "execution_count": null,
   "id": "c1186f96",
   "metadata": {},
   "outputs": [],
   "source": []
  },
  {
   "cell_type": "code",
   "execution_count": 182,
   "id": "63f79816",
   "metadata": {},
   "outputs": [
    {
     "name": "stdout",
     "output_type": "stream",
     "text": [
      "175 µs ± 2.41 µs per loop (mean ± std. dev. of 7 runs, 10000 loops each)\n"
     ]
    }
   ],
   "source": [
    "%timeit 10**my_interpolating_function_log(np.log10(pts))"
   ]
  },
  {
   "cell_type": "code",
   "execution_count": 176,
   "id": "49277e43-a15b-47ed-96d0-8fed0660c62c",
   "metadata": {
    "scrolled": true
   },
   "outputs": [
    {
     "name": "stdout",
     "output_type": "stream",
     "text": [
      "176 µs ± 2.09 µs per loop (mean ± std. dev. of 7 runs, 10000 loops each)\n"
     ]
    }
   ],
   "source": [
    "%timeit my_interpolating_function(pts)"
   ]
  },
  {
   "cell_type": "code",
   "execution_count": 143,
   "id": "50ac998e",
   "metadata": {},
   "outputs": [
    {
     "name": "stdout",
     "output_type": "stream",
     "text": [
      "250 µs ± 1.33 µs per loop (mean ± std. dev. of 7 runs, 1000 loops each)\n"
     ]
    }
   ],
   "source": [
    "%timeit my_interpolating_function(pts)"
   ]
  },
  {
   "cell_type": "code",
   "execution_count": 70,
   "id": "f1c04114",
   "metadata": {},
   "outputs": [],
   "source": [
    "indices = np.sum(grid.T < pts.reshape(len(pts),1,3), axis=1) - 1 "
   ]
  },
  {
   "cell_type": "code",
   "execution_count": 71,
   "id": "f66b47ba",
   "metadata": {},
   "outputs": [
    {
     "data": {
      "text/plain": [
       "array([[3, 7],\n",
       "       [7, 3],\n",
       "       [6, 0]])"
      ]
     },
     "execution_count": 71,
     "metadata": {},
     "output_type": "execute_result"
    }
   ],
   "source": [
    "indices.T"
   ]
  },
  {
   "cell_type": "code",
   "execution_count": 72,
   "id": "a79914c5",
   "metadata": {},
   "outputs": [
    {
     "data": {
      "text/plain": [
       "array([[0.66666667, 0.33333333, 0.5       ],\n",
       "       [0.66666667, 1.        , 0.5       ]])"
      ]
     },
     "execution_count": 72,
     "metadata": {},
     "output_type": "execute_result"
    }
   ],
   "source": [
    "norm_distances = ((pts - grid[np.arange(3), indices]) / (grid[np.arange(3), indices+1] - grid[np.arange(3), indices]))\n",
    "norm_distances"
   ]
  },
  {
   "cell_type": "code",
   "execution_count": 121,
   "id": "5dd077d7",
   "metadata": {},
   "outputs": [
    {
     "ename": "ValueError",
     "evalue": "cannot reshape array of size 180 into shape (30,2,2)",
     "output_type": "error",
     "traceback": [
      "\u001b[1;31m---------------------------------------------------------------------------\u001b[0m",
      "\u001b[1;31mValueError\u001b[0m                                Traceback (most recent call last)",
      "\u001b[1;32m<ipython-input-121-466f9b1db8df>\u001b[0m in \u001b[0;36m<module>\u001b[1;34m\u001b[0m\n\u001b[1;32m----> 1\u001b[1;33m \u001b[0mnp\u001b[0m\u001b[1;33m.\u001b[0m\u001b[0mhstack\u001b[0m\u001b[1;33m(\u001b[0m\u001b[1;33m[\u001b[0m\u001b[0mindices\u001b[0m\u001b[1;33m.\u001b[0m\u001b[0mT\u001b[0m\u001b[1;33m,\u001b[0m \u001b[0mindices\u001b[0m\u001b[1;33m.\u001b[0m\u001b[0mT\u001b[0m \u001b[1;33m+\u001b[0m \u001b[1;36m1\u001b[0m\u001b[1;33m]\u001b[0m\u001b[1;33m)\u001b[0m\u001b[1;33m.\u001b[0m\u001b[0mT\u001b[0m\u001b[1;33m.\u001b[0m\u001b[0mreshape\u001b[0m\u001b[1;33m(\u001b[0m\u001b[0mlen\u001b[0m\u001b[1;33m(\u001b[0m\u001b[0mpts\u001b[0m\u001b[1;33m)\u001b[0m\u001b[1;33m,\u001b[0m\u001b[1;36m2\u001b[0m\u001b[1;33m,\u001b[0m\u001b[1;36m2\u001b[0m\u001b[1;33m)\u001b[0m\u001b[1;33m.\u001b[0m\u001b[0mT\u001b[0m\u001b[1;33m\u001b[0m\u001b[1;33m\u001b[0m\u001b[0m\n\u001b[0m",
      "\u001b[1;31mValueError\u001b[0m: cannot reshape array of size 180 into shape (30,2,2)"
     ]
    }
   ],
   "source": [
    "np.hstack([indices.T, indices.T + 1]).T.reshape(len(pts),2,2).T"
   ]
  },
  {
   "cell_type": "code",
   "execution_count": 122,
   "id": "b2a185f8",
   "metadata": {},
   "outputs": [
    {
     "data": {
      "text/plain": [
       "45.0"
      ]
     },
     "execution_count": 122,
     "metadata": {},
     "output_type": "execute_result"
    }
   ],
   "source": [
    "180/4"
   ]
  },
  {
   "cell_type": "code",
   "execution_count": 123,
   "id": "2041affe",
   "metadata": {},
   "outputs": [
    {
     "data": {
      "text/plain": [
       "(30, 3)"
      ]
     },
     "execution_count": 123,
     "metadata": {},
     "output_type": "execute_result"
    }
   ],
   "source": [
    "indices.shape"
   ]
  },
  {
   "cell_type": "code",
   "execution_count": 89,
   "id": "c3dce3d4",
   "metadata": {
    "scrolled": true
   },
   "outputs": [
    {
     "data": {
      "text/plain": [
       "array([[[3, 7],\n",
       "        [4, 8]],\n",
       "\n",
       "       [[7, 3],\n",
       "        [8, 4]],\n",
       "\n",
       "       [[6, 0],\n",
       "        [7, 1]]])"
      ]
     },
     "execution_count": 89,
     "metadata": {},
     "output_type": "execute_result"
    }
   ],
   "source": [
    "np.array([[i, i + 1] for i in indices.T])"
   ]
  },
  {
   "cell_type": "code",
   "execution_count": null,
   "id": "e543920c",
   "metadata": {},
   "outputs": [],
   "source": [
    "np.transpose(np.meshgrid(*[[i, i + 1] for i in indices.T], indexing='ij'), (1,2,0)).reshape(-1,2)"
   ]
  },
  {
   "cell_type": "code",
   "execution_count": 95,
   "id": "a5823ef9",
   "metadata": {},
   "outputs": [
    {
     "ename": "ValueError",
     "evalue": "setting an array element with a sequence.",
     "output_type": "error",
     "traceback": [
      "\u001b[1;31m---------------------------------------------------------------------------\u001b[0m",
      "\u001b[1;31mTypeError\u001b[0m                                 Traceback (most recent call last)",
      "\u001b[1;31mTypeError\u001b[0m: int() argument must be a string, a bytes-like object or a number, not 'tuple'",
      "\nThe above exception was the direct cause of the following exception:\n",
      "\u001b[1;31mValueError\u001b[0m                                Traceback (most recent call last)",
      "\u001b[1;32m<ipython-input-95-ca8c696d03ad>\u001b[0m in \u001b[0;36m<module>\u001b[1;34m\u001b[0m\n\u001b[0;32m      1\u001b[0m \u001b[0mit\u001b[0m \u001b[1;33m=\u001b[0m \u001b[0mitertools\u001b[0m\u001b[1;33m.\u001b[0m\u001b[0mproduct\u001b[0m\u001b[1;33m(\u001b[0m\u001b[1;33m*\u001b[0m\u001b[1;33m[\u001b[0m\u001b[1;33m[\u001b[0m\u001b[0mi\u001b[0m\u001b[1;33m,\u001b[0m \u001b[0mi\u001b[0m \u001b[1;33m+\u001b[0m \u001b[1;36m1\u001b[0m\u001b[1;33m]\u001b[0m \u001b[1;32mfor\u001b[0m \u001b[0mi\u001b[0m \u001b[1;32min\u001b[0m \u001b[0mindices\u001b[0m\u001b[1;33m.\u001b[0m\u001b[0mT\u001b[0m\u001b[1;33m]\u001b[0m\u001b[1;33m)\u001b[0m\u001b[1;33m\u001b[0m\u001b[1;33m\u001b[0m\u001b[0m\n\u001b[1;32m----> 2\u001b[1;33m \u001b[0mnp\u001b[0m\u001b[1;33m.\u001b[0m\u001b[0mfromiter\u001b[0m\u001b[1;33m(\u001b[0m\u001b[0mitertools\u001b[0m\u001b[1;33m.\u001b[0m\u001b[0mchain\u001b[0m\u001b[1;33m(\u001b[0m\u001b[0mit\u001b[0m\u001b[1;33m)\u001b[0m\u001b[1;33m,\u001b[0m \u001b[0mint\u001b[0m\u001b[1;33m)\u001b[0m\u001b[1;33m\u001b[0m\u001b[1;33m\u001b[0m\u001b[0m\n\u001b[0m",
      "\u001b[1;31mValueError\u001b[0m: setting an array element with a sequence."
     ]
    }
   ],
   "source": [
    "it = itertools.product(*[[i, i + 1] for i in indices.T])\n",
    "np.fromiter(itertools.chain(it), int)"
   ]
  },
  {
   "cell_type": "code",
   "execution_count": 91,
   "id": "d9ece5c4",
   "metadata": {},
   "outputs": [],
   "source": [
    "\n",
    "def cartesian_product_mixed_type(*arrays):\n",
    "    arrays = *map(np.asanyarray, arrays),\n",
    "    dtype = np.dtype([(f'f{i}', a.dtype) for i, a in enumerate(arrays)])\n",
    "    out = np.empty((*map(len, arrays),), dtype)\n",
    "    idx = slice(None), *itertools.repeat(None, len(arrays) - 1)\n",
    "    for i, a in enumerate(arrays):\n",
    "        out[f'f{i}'] = a[idx[:len(arrays) - i]]\n",
    "    return out.ravel()"
   ]
  },
  {
   "cell_type": "code",
   "execution_count": 92,
   "id": "786d7c10",
   "metadata": {},
   "outputs": [
    {
     "ename": "ValueError",
     "evalue": "could not broadcast input array from shape (2,1,1,2) into shape (2,2,2)",
     "output_type": "error",
     "traceback": [
      "\u001b[1;31m---------------------------------------------------------------------------\u001b[0m",
      "\u001b[1;31mValueError\u001b[0m                                Traceback (most recent call last)",
      "\u001b[1;32m<ipython-input-92-e78b10d26095>\u001b[0m in \u001b[0;36m<module>\u001b[1;34m\u001b[0m\n\u001b[1;32m----> 1\u001b[1;33m \u001b[0medge_indices\u001b[0m \u001b[1;33m=\u001b[0m \u001b[0mcartesian_product_mixed_type\u001b[0m\u001b[1;33m(\u001b[0m\u001b[1;33m*\u001b[0m\u001b[1;33m[\u001b[0m\u001b[1;33m[\u001b[0m\u001b[0mi\u001b[0m\u001b[1;33m,\u001b[0m \u001b[0mi\u001b[0m \u001b[1;33m+\u001b[0m \u001b[1;36m1\u001b[0m\u001b[1;33m]\u001b[0m \u001b[1;32mfor\u001b[0m \u001b[0mi\u001b[0m \u001b[1;32min\u001b[0m \u001b[0mindices\u001b[0m\u001b[1;33m.\u001b[0m\u001b[0mT\u001b[0m\u001b[1;33m]\u001b[0m\u001b[1;33m)\u001b[0m\u001b[1;33m\u001b[0m\u001b[1;33m\u001b[0m\u001b[0m\n\u001b[0m",
      "\u001b[1;32m<ipython-input-91-c29cfefd19b9>\u001b[0m in \u001b[0;36mcartesian_product_mixed_type\u001b[1;34m(*arrays)\u001b[0m\n\u001b[0;32m      5\u001b[0m     \u001b[0midx\u001b[0m \u001b[1;33m=\u001b[0m \u001b[0mslice\u001b[0m\u001b[1;33m(\u001b[0m\u001b[1;32mNone\u001b[0m\u001b[1;33m)\u001b[0m\u001b[1;33m,\u001b[0m \u001b[1;33m*\u001b[0m\u001b[0mitertools\u001b[0m\u001b[1;33m.\u001b[0m\u001b[0mrepeat\u001b[0m\u001b[1;33m(\u001b[0m\u001b[1;32mNone\u001b[0m\u001b[1;33m,\u001b[0m \u001b[0mlen\u001b[0m\u001b[1;33m(\u001b[0m\u001b[0marrays\u001b[0m\u001b[1;33m)\u001b[0m \u001b[1;33m-\u001b[0m \u001b[1;36m1\u001b[0m\u001b[1;33m)\u001b[0m\u001b[1;33m\u001b[0m\u001b[1;33m\u001b[0m\u001b[0m\n\u001b[0;32m      6\u001b[0m     \u001b[1;32mfor\u001b[0m \u001b[0mi\u001b[0m\u001b[1;33m,\u001b[0m \u001b[0ma\u001b[0m \u001b[1;32min\u001b[0m \u001b[0menumerate\u001b[0m\u001b[1;33m(\u001b[0m\u001b[0marrays\u001b[0m\u001b[1;33m)\u001b[0m\u001b[1;33m:\u001b[0m\u001b[1;33m\u001b[0m\u001b[1;33m\u001b[0m\u001b[0m\n\u001b[1;32m----> 7\u001b[1;33m         \u001b[0mout\u001b[0m\u001b[1;33m[\u001b[0m\u001b[1;34mf'f{i}'\u001b[0m\u001b[1;33m]\u001b[0m \u001b[1;33m=\u001b[0m \u001b[0ma\u001b[0m\u001b[1;33m[\u001b[0m\u001b[0midx\u001b[0m\u001b[1;33m[\u001b[0m\u001b[1;33m:\u001b[0m\u001b[0mlen\u001b[0m\u001b[1;33m(\u001b[0m\u001b[0marrays\u001b[0m\u001b[1;33m)\u001b[0m \u001b[1;33m-\u001b[0m \u001b[0mi\u001b[0m\u001b[1;33m]\u001b[0m\u001b[1;33m]\u001b[0m\u001b[1;33m\u001b[0m\u001b[1;33m\u001b[0m\u001b[0m\n\u001b[0m\u001b[0;32m      8\u001b[0m     \u001b[1;32mreturn\u001b[0m \u001b[0mout\u001b[0m\u001b[1;33m.\u001b[0m\u001b[0mravel\u001b[0m\u001b[1;33m(\u001b[0m\u001b[1;33m)\u001b[0m\u001b[1;33m\u001b[0m\u001b[1;33m\u001b[0m\u001b[0m\n",
      "\u001b[1;31mValueError\u001b[0m: could not broadcast input array from shape (2,1,1,2) into shape (2,2,2)"
     ]
    }
   ],
   "source": [
    "np.array(some_list)[np.rollaxis(np.indices((len(some_list),) * some_length), 0, some_length + 1).reshape(-1, some_length)]"
   ]
  },
  {
   "cell_type": "code",
   "execution_count": 90,
   "id": "c5dc249a",
   "metadata": {},
   "outputs": [
    {
     "data": {
      "text/plain": [
       "(array([[[3, 7],\n",
       "         [7, 3],\n",
       "         [6, 0]],\n",
       " \n",
       "        [[3, 7],\n",
       "         [7, 3],\n",
       "         [7, 1]],\n",
       " \n",
       "        [[3, 7],\n",
       "         [8, 4],\n",
       "         [6, 0]],\n",
       " \n",
       "        [[3, 7],\n",
       "         [8, 4],\n",
       "         [7, 1]],\n",
       " \n",
       "        [[4, 8],\n",
       "         [7, 3],\n",
       "         [6, 0]],\n",
       " \n",
       "        [[4, 8],\n",
       "         [7, 3],\n",
       "         [7, 1]],\n",
       " \n",
       "        [[4, 8],\n",
       "         [8, 4],\n",
       "         [6, 0]],\n",
       " \n",
       "        [[4, 8],\n",
       "         [8, 4],\n",
       "         [7, 1]]]),\n",
       " (8, 3, 2))"
      ]
     },
     "execution_count": 90,
     "metadata": {},
     "output_type": "execute_result"
    }
   ],
   "source": [
    "edge_indices = np.array(list(itertools.product(*[[i, i + 1] for i in indices.T])))\n",
    "# edge_indices = np.array(list(itertools.product(indices.T, indices.T+1)))\n",
    "edge_indices, edge_indices.shape"
   ]
  },
  {
   "cell_type": "code",
   "execution_count": 126,
   "id": "76685281",
   "metadata": {},
   "outputs": [
    {
     "data": {
      "text/plain": [
       "array([[[3, 7, 3, 7, 3, 7, 3, 7, 3, 7, 3, 7, 3, 7, 3, 7, 3, 7, 3, 7, 3,\n",
       "         7, 3, 7, 3, 7, 3, 7, 3, 7],\n",
       "        [7, 3, 7, 3, 7, 3, 7, 3, 7, 3, 7, 3, 7, 3, 7, 3, 7, 3, 7, 3, 7,\n",
       "         3, 7, 3, 7, 3, 7, 3, 7, 3],\n",
       "        [6, 0, 6, 0, 6, 0, 6, 0, 6, 0, 6, 0, 6, 0, 6, 0, 6, 0, 6, 0, 6,\n",
       "         0, 6, 0, 6, 0, 6, 0, 6, 0]],\n",
       "\n",
       "       [[3, 7, 3, 7, 3, 7, 3, 7, 3, 7, 3, 7, 3, 7, 3, 7, 3, 7, 3, 7, 3,\n",
       "         7, 3, 7, 3, 7, 3, 7, 3, 7],\n",
       "        [7, 3, 7, 3, 7, 3, 7, 3, 7, 3, 7, 3, 7, 3, 7, 3, 7, 3, 7, 3, 7,\n",
       "         3, 7, 3, 7, 3, 7, 3, 7, 3],\n",
       "        [7, 1, 7, 1, 7, 1, 7, 1, 7, 1, 7, 1, 7, 1, 7, 1, 7, 1, 7, 1, 7,\n",
       "         1, 7, 1, 7, 1, 7, 1, 7, 1]],\n",
       "\n",
       "       [[3, 7, 3, 7, 3, 7, 3, 7, 3, 7, 3, 7, 3, 7, 3, 7, 3, 7, 3, 7, 3,\n",
       "         7, 3, 7, 3, 7, 3, 7, 3, 7],\n",
       "        [8, 4, 8, 4, 8, 4, 8, 4, 8, 4, 8, 4, 8, 4, 8, 4, 8, 4, 8, 4, 8,\n",
       "         4, 8, 4, 8, 4, 8, 4, 8, 4],\n",
       "        [6, 0, 6, 0, 6, 0, 6, 0, 6, 0, 6, 0, 6, 0, 6, 0, 6, 0, 6, 0, 6,\n",
       "         0, 6, 0, 6, 0, 6, 0, 6, 0]],\n",
       "\n",
       "       [[3, 7, 3, 7, 3, 7, 3, 7, 3, 7, 3, 7, 3, 7, 3, 7, 3, 7, 3, 7, 3,\n",
       "         7, 3, 7, 3, 7, 3, 7, 3, 7],\n",
       "        [8, 4, 8, 4, 8, 4, 8, 4, 8, 4, 8, 4, 8, 4, 8, 4, 8, 4, 8, 4, 8,\n",
       "         4, 8, 4, 8, 4, 8, 4, 8, 4],\n",
       "        [7, 1, 7, 1, 7, 1, 7, 1, 7, 1, 7, 1, 7, 1, 7, 1, 7, 1, 7, 1, 7,\n",
       "         1, 7, 1, 7, 1, 7, 1, 7, 1]],\n",
       "\n",
       "       [[4, 8, 4, 8, 4, 8, 4, 8, 4, 8, 4, 8, 4, 8, 4, 8, 4, 8, 4, 8, 4,\n",
       "         8, 4, 8, 4, 8, 4, 8, 4, 8],\n",
       "        [7, 3, 7, 3, 7, 3, 7, 3, 7, 3, 7, 3, 7, 3, 7, 3, 7, 3, 7, 3, 7,\n",
       "         3, 7, 3, 7, 3, 7, 3, 7, 3],\n",
       "        [6, 0, 6, 0, 6, 0, 6, 0, 6, 0, 6, 0, 6, 0, 6, 0, 6, 0, 6, 0, 6,\n",
       "         0, 6, 0, 6, 0, 6, 0, 6, 0]],\n",
       "\n",
       "       [[4, 8, 4, 8, 4, 8, 4, 8, 4, 8, 4, 8, 4, 8, 4, 8, 4, 8, 4, 8, 4,\n",
       "         8, 4, 8, 4, 8, 4, 8, 4, 8],\n",
       "        [7, 3, 7, 3, 7, 3, 7, 3, 7, 3, 7, 3, 7, 3, 7, 3, 7, 3, 7, 3, 7,\n",
       "         3, 7, 3, 7, 3, 7, 3, 7, 3],\n",
       "        [7, 1, 7, 1, 7, 1, 7, 1, 7, 1, 7, 1, 7, 1, 7, 1, 7, 1, 7, 1, 7,\n",
       "         1, 7, 1, 7, 1, 7, 1, 7, 1]],\n",
       "\n",
       "       [[4, 8, 4, 8, 4, 8, 4, 8, 4, 8, 4, 8, 4, 8, 4, 8, 4, 8, 4, 8, 4,\n",
       "         8, 4, 8, 4, 8, 4, 8, 4, 8],\n",
       "        [8, 4, 8, 4, 8, 4, 8, 4, 8, 4, 8, 4, 8, 4, 8, 4, 8, 4, 8, 4, 8,\n",
       "         4, 8, 4, 8, 4, 8, 4, 8, 4],\n",
       "        [6, 0, 6, 0, 6, 0, 6, 0, 6, 0, 6, 0, 6, 0, 6, 0, 6, 0, 6, 0, 6,\n",
       "         0, 6, 0, 6, 0, 6, 0, 6, 0]],\n",
       "\n",
       "       [[4, 8, 4, 8, 4, 8, 4, 8, 4, 8, 4, 8, 4, 8, 4, 8, 4, 8, 4, 8, 4,\n",
       "         8, 4, 8, 4, 8, 4, 8, 4, 8],\n",
       "        [8, 4, 8, 4, 8, 4, 8, 4, 8, 4, 8, 4, 8, 4, 8, 4, 8, 4, 8, 4, 8,\n",
       "         4, 8, 4, 8, 4, 8, 4, 8, 4],\n",
       "        [7, 1, 7, 1, 7, 1, 7, 1, 7, 1, 7, 1, 7, 1, 7, 1, 7, 1, 7, 1, 7,\n",
       "         1, 7, 1, 7, 1, 7, 1, 7, 1]]])"
      ]
     },
     "execution_count": 126,
     "metadata": {},
     "output_type": "execute_result"
    }
   ],
   "source": [
    "np.asarray(list(itertools.product(*[[i, i + 1] for i in indices.T])))"
   ]
  },
  {
   "cell_type": "code",
   "execution_count": 127,
   "id": "cf5516ac",
   "metadata": {},
   "outputs": [
    {
     "ename": "KeyboardInterrupt",
     "evalue": "",
     "output_type": "error",
     "traceback": [
      "\u001b[1;31m---------------------------------------------------------------------------\u001b[0m",
      "\u001b[1;31mKeyboardInterrupt\u001b[0m                         Traceback (most recent call last)",
      "\u001b[1;32m<ipython-input-127-d12b456c6071>\u001b[0m in \u001b[0;36m<module>\u001b[1;34m\u001b[0m\n\u001b[1;32m----> 1\u001b[1;33m \u001b[0mget_ipython\u001b[0m\u001b[1;33m(\u001b[0m\u001b[1;33m)\u001b[0m\u001b[1;33m.\u001b[0m\u001b[0mrun_line_magic\u001b[0m\u001b[1;33m(\u001b[0m\u001b[1;34m'timeit'\u001b[0m\u001b[1;33m,\u001b[0m \u001b[1;34m'np.array(list(itertools.product(*[[i, i + 1] for i in indices.T])))'\u001b[0m\u001b[1;33m)\u001b[0m\u001b[1;33m\u001b[0m\u001b[1;33m\u001b[0m\u001b[0m\n\u001b[0m",
      "\u001b[1;32m~\\anaconda3\\lib\\site-packages\\IPython\\core\\interactiveshell.py\u001b[0m in \u001b[0;36mrun_line_magic\u001b[1;34m(self, magic_name, line, _stack_depth)\u001b[0m\n\u001b[0;32m   2342\u001b[0m                 \u001b[0mkwargs\u001b[0m\u001b[1;33m[\u001b[0m\u001b[1;34m'local_ns'\u001b[0m\u001b[1;33m]\u001b[0m \u001b[1;33m=\u001b[0m \u001b[0mself\u001b[0m\u001b[1;33m.\u001b[0m\u001b[0mget_local_scope\u001b[0m\u001b[1;33m(\u001b[0m\u001b[0mstack_depth\u001b[0m\u001b[1;33m)\u001b[0m\u001b[1;33m\u001b[0m\u001b[1;33m\u001b[0m\u001b[0m\n\u001b[0;32m   2343\u001b[0m             \u001b[1;32mwith\u001b[0m \u001b[0mself\u001b[0m\u001b[1;33m.\u001b[0m\u001b[0mbuiltin_trap\u001b[0m\u001b[1;33m:\u001b[0m\u001b[1;33m\u001b[0m\u001b[1;33m\u001b[0m\u001b[0m\n\u001b[1;32m-> 2344\u001b[1;33m                 \u001b[0mresult\u001b[0m \u001b[1;33m=\u001b[0m \u001b[0mfn\u001b[0m\u001b[1;33m(\u001b[0m\u001b[1;33m*\u001b[0m\u001b[0margs\u001b[0m\u001b[1;33m,\u001b[0m \u001b[1;33m**\u001b[0m\u001b[0mkwargs\u001b[0m\u001b[1;33m)\u001b[0m\u001b[1;33m\u001b[0m\u001b[1;33m\u001b[0m\u001b[0m\n\u001b[0m\u001b[0;32m   2345\u001b[0m             \u001b[1;32mreturn\u001b[0m \u001b[0mresult\u001b[0m\u001b[1;33m\u001b[0m\u001b[1;33m\u001b[0m\u001b[0m\n\u001b[0;32m   2346\u001b[0m \u001b[1;33m\u001b[0m\u001b[0m\n",
      "\u001b[1;32m~\\anaconda3\\lib\\site-packages\\decorator.py\u001b[0m in \u001b[0;36mfun\u001b[1;34m(*args, **kw)\u001b[0m\n\u001b[0;32m    229\u001b[0m             \u001b[1;32mif\u001b[0m \u001b[1;32mnot\u001b[0m \u001b[0mkwsyntax\u001b[0m\u001b[1;33m:\u001b[0m\u001b[1;33m\u001b[0m\u001b[1;33m\u001b[0m\u001b[0m\n\u001b[0;32m    230\u001b[0m                 \u001b[0margs\u001b[0m\u001b[1;33m,\u001b[0m \u001b[0mkw\u001b[0m \u001b[1;33m=\u001b[0m \u001b[0mfix\u001b[0m\u001b[1;33m(\u001b[0m\u001b[0margs\u001b[0m\u001b[1;33m,\u001b[0m \u001b[0mkw\u001b[0m\u001b[1;33m,\u001b[0m \u001b[0msig\u001b[0m\u001b[1;33m)\u001b[0m\u001b[1;33m\u001b[0m\u001b[1;33m\u001b[0m\u001b[0m\n\u001b[1;32m--> 231\u001b[1;33m             \u001b[1;32mreturn\u001b[0m \u001b[0mcaller\u001b[0m\u001b[1;33m(\u001b[0m\u001b[0mfunc\u001b[0m\u001b[1;33m,\u001b[0m \u001b[1;33m*\u001b[0m\u001b[1;33m(\u001b[0m\u001b[0mextras\u001b[0m \u001b[1;33m+\u001b[0m \u001b[0margs\u001b[0m\u001b[1;33m)\u001b[0m\u001b[1;33m,\u001b[0m \u001b[1;33m**\u001b[0m\u001b[0mkw\u001b[0m\u001b[1;33m)\u001b[0m\u001b[1;33m\u001b[0m\u001b[1;33m\u001b[0m\u001b[0m\n\u001b[0m\u001b[0;32m    232\u001b[0m     \u001b[0mfun\u001b[0m\u001b[1;33m.\u001b[0m\u001b[0m__name__\u001b[0m \u001b[1;33m=\u001b[0m \u001b[0mfunc\u001b[0m\u001b[1;33m.\u001b[0m\u001b[0m__name__\u001b[0m\u001b[1;33m\u001b[0m\u001b[1;33m\u001b[0m\u001b[0m\n\u001b[0;32m    233\u001b[0m     \u001b[0mfun\u001b[0m\u001b[1;33m.\u001b[0m\u001b[0m__doc__\u001b[0m \u001b[1;33m=\u001b[0m \u001b[0mfunc\u001b[0m\u001b[1;33m.\u001b[0m\u001b[0m__doc__\u001b[0m\u001b[1;33m\u001b[0m\u001b[1;33m\u001b[0m\u001b[0m\n",
      "\u001b[1;32m~\\anaconda3\\lib\\site-packages\\IPython\\core\\magic.py\u001b[0m in \u001b[0;36m<lambda>\u001b[1;34m(f, *a, **k)\u001b[0m\n\u001b[0;32m    185\u001b[0m     \u001b[1;31m# but it's overkill for just that one bit of state.\u001b[0m\u001b[1;33m\u001b[0m\u001b[1;33m\u001b[0m\u001b[1;33m\u001b[0m\u001b[0m\n\u001b[0;32m    186\u001b[0m     \u001b[1;32mdef\u001b[0m \u001b[0mmagic_deco\u001b[0m\u001b[1;33m(\u001b[0m\u001b[0marg\u001b[0m\u001b[1;33m)\u001b[0m\u001b[1;33m:\u001b[0m\u001b[1;33m\u001b[0m\u001b[1;33m\u001b[0m\u001b[0m\n\u001b[1;32m--> 187\u001b[1;33m         \u001b[0mcall\u001b[0m \u001b[1;33m=\u001b[0m \u001b[1;32mlambda\u001b[0m \u001b[0mf\u001b[0m\u001b[1;33m,\u001b[0m \u001b[1;33m*\u001b[0m\u001b[0ma\u001b[0m\u001b[1;33m,\u001b[0m \u001b[1;33m**\u001b[0m\u001b[0mk\u001b[0m\u001b[1;33m:\u001b[0m \u001b[0mf\u001b[0m\u001b[1;33m(\u001b[0m\u001b[1;33m*\u001b[0m\u001b[0ma\u001b[0m\u001b[1;33m,\u001b[0m \u001b[1;33m**\u001b[0m\u001b[0mk\u001b[0m\u001b[1;33m)\u001b[0m\u001b[1;33m\u001b[0m\u001b[1;33m\u001b[0m\u001b[0m\n\u001b[0m\u001b[0;32m    188\u001b[0m \u001b[1;33m\u001b[0m\u001b[0m\n\u001b[0;32m    189\u001b[0m         \u001b[1;32mif\u001b[0m \u001b[0mcallable\u001b[0m\u001b[1;33m(\u001b[0m\u001b[0marg\u001b[0m\u001b[1;33m)\u001b[0m\u001b[1;33m:\u001b[0m\u001b[1;33m\u001b[0m\u001b[1;33m\u001b[0m\u001b[0m\n",
      "\u001b[1;32m~\\anaconda3\\lib\\site-packages\\IPython\\core\\magics\\execution.py\u001b[0m in \u001b[0;36mtimeit\u001b[1;34m(self, line, cell, local_ns)\u001b[0m\n\u001b[0;32m   1171\u001b[0m                     \u001b[1;32mbreak\u001b[0m\u001b[1;33m\u001b[0m\u001b[1;33m\u001b[0m\u001b[0m\n\u001b[0;32m   1172\u001b[0m \u001b[1;33m\u001b[0m\u001b[0m\n\u001b[1;32m-> 1173\u001b[1;33m         \u001b[0mall_runs\u001b[0m \u001b[1;33m=\u001b[0m \u001b[0mtimer\u001b[0m\u001b[1;33m.\u001b[0m\u001b[0mrepeat\u001b[0m\u001b[1;33m(\u001b[0m\u001b[0mrepeat\u001b[0m\u001b[1;33m,\u001b[0m \u001b[0mnumber\u001b[0m\u001b[1;33m)\u001b[0m\u001b[1;33m\u001b[0m\u001b[1;33m\u001b[0m\u001b[0m\n\u001b[0m\u001b[0;32m   1174\u001b[0m         \u001b[0mbest\u001b[0m \u001b[1;33m=\u001b[0m \u001b[0mmin\u001b[0m\u001b[1;33m(\u001b[0m\u001b[0mall_runs\u001b[0m\u001b[1;33m)\u001b[0m \u001b[1;33m/\u001b[0m \u001b[0mnumber\u001b[0m\u001b[1;33m\u001b[0m\u001b[1;33m\u001b[0m\u001b[0m\n\u001b[0;32m   1175\u001b[0m         \u001b[0mworst\u001b[0m \u001b[1;33m=\u001b[0m \u001b[0mmax\u001b[0m\u001b[1;33m(\u001b[0m\u001b[0mall_runs\u001b[0m\u001b[1;33m)\u001b[0m \u001b[1;33m/\u001b[0m \u001b[0mnumber\u001b[0m\u001b[1;33m\u001b[0m\u001b[1;33m\u001b[0m\u001b[0m\n",
      "\u001b[1;32m~\\anaconda3\\lib\\timeit.py\u001b[0m in \u001b[0;36mrepeat\u001b[1;34m(self, repeat, number)\u001b[0m\n\u001b[0;32m    203\u001b[0m         \u001b[0mr\u001b[0m \u001b[1;33m=\u001b[0m \u001b[1;33m[\u001b[0m\u001b[1;33m]\u001b[0m\u001b[1;33m\u001b[0m\u001b[1;33m\u001b[0m\u001b[0m\n\u001b[0;32m    204\u001b[0m         \u001b[1;32mfor\u001b[0m \u001b[0mi\u001b[0m \u001b[1;32min\u001b[0m \u001b[0mrange\u001b[0m\u001b[1;33m(\u001b[0m\u001b[0mrepeat\u001b[0m\u001b[1;33m)\u001b[0m\u001b[1;33m:\u001b[0m\u001b[1;33m\u001b[0m\u001b[1;33m\u001b[0m\u001b[0m\n\u001b[1;32m--> 205\u001b[1;33m             \u001b[0mt\u001b[0m \u001b[1;33m=\u001b[0m \u001b[0mself\u001b[0m\u001b[1;33m.\u001b[0m\u001b[0mtimeit\u001b[0m\u001b[1;33m(\u001b[0m\u001b[0mnumber\u001b[0m\u001b[1;33m)\u001b[0m\u001b[1;33m\u001b[0m\u001b[1;33m\u001b[0m\u001b[0m\n\u001b[0m\u001b[0;32m    206\u001b[0m             \u001b[0mr\u001b[0m\u001b[1;33m.\u001b[0m\u001b[0mappend\u001b[0m\u001b[1;33m(\u001b[0m\u001b[0mt\u001b[0m\u001b[1;33m)\u001b[0m\u001b[1;33m\u001b[0m\u001b[1;33m\u001b[0m\u001b[0m\n\u001b[0;32m    207\u001b[0m         \u001b[1;32mreturn\u001b[0m \u001b[0mr\u001b[0m\u001b[1;33m\u001b[0m\u001b[1;33m\u001b[0m\u001b[0m\n",
      "\u001b[1;32m~\\anaconda3\\lib\\site-packages\\IPython\\core\\magics\\execution.py\u001b[0m in \u001b[0;36mtimeit\u001b[1;34m(self, number)\u001b[0m\n\u001b[0;32m    167\u001b[0m         \u001b[0mgc\u001b[0m\u001b[1;33m.\u001b[0m\u001b[0mdisable\u001b[0m\u001b[1;33m(\u001b[0m\u001b[1;33m)\u001b[0m\u001b[1;33m\u001b[0m\u001b[1;33m\u001b[0m\u001b[0m\n\u001b[0;32m    168\u001b[0m         \u001b[1;32mtry\u001b[0m\u001b[1;33m:\u001b[0m\u001b[1;33m\u001b[0m\u001b[1;33m\u001b[0m\u001b[0m\n\u001b[1;32m--> 169\u001b[1;33m             \u001b[0mtiming\u001b[0m \u001b[1;33m=\u001b[0m \u001b[0mself\u001b[0m\u001b[1;33m.\u001b[0m\u001b[0minner\u001b[0m\u001b[1;33m(\u001b[0m\u001b[0mit\u001b[0m\u001b[1;33m,\u001b[0m \u001b[0mself\u001b[0m\u001b[1;33m.\u001b[0m\u001b[0mtimer\u001b[0m\u001b[1;33m)\u001b[0m\u001b[1;33m\u001b[0m\u001b[1;33m\u001b[0m\u001b[0m\n\u001b[0m\u001b[0;32m    170\u001b[0m         \u001b[1;32mfinally\u001b[0m\u001b[1;33m:\u001b[0m\u001b[1;33m\u001b[0m\u001b[1;33m\u001b[0m\u001b[0m\n\u001b[0;32m    171\u001b[0m             \u001b[1;32mif\u001b[0m \u001b[0mgcold\u001b[0m\u001b[1;33m:\u001b[0m\u001b[1;33m\u001b[0m\u001b[1;33m\u001b[0m\u001b[0m\n",
      "\u001b[1;32m<magic-timeit>\u001b[0m in \u001b[0;36minner\u001b[1;34m(_it, _timer)\u001b[0m\n",
      "\u001b[1;31mKeyboardInterrupt\u001b[0m: "
     ]
    }
   ],
   "source": [
    "%timeit np.array(list(itertools.product(*[[i, i + 1] for i in indices.T])))"
   ]
  },
  {
   "cell_type": "code",
   "execution_count": 128,
   "id": "46017c15",
   "metadata": {},
   "outputs": [
    {
     "data": {
      "text/plain": [
       "array([117.148, 124.612])"
      ]
     },
     "execution_count": 128,
     "metadata": {},
     "output_type": "execute_result"
    }
   ],
   "source": [
    "data[[3,7], [7,3], [6,0]]"
   ]
  },
  {
   "cell_type": "code",
   "execution_count": 129,
   "id": "af86807b",
   "metadata": {},
   "outputs": [
    {
     "data": {
      "text/plain": [
       "(3, 8, 30)"
      ]
     },
     "execution_count": 129,
     "metadata": {},
     "output_type": "execute_result"
    }
   ],
   "source": [
    "edge_indices.transpose(1,0,2).shape"
   ]
  },
  {
   "cell_type": "code",
   "execution_count": 130,
   "id": "242292c3",
   "metadata": {},
   "outputs": [
    {
     "data": {
      "text/plain": [
       "array([[117.148, 124.612, 117.148, 124.612, 117.148, 124.612, 117.148,\n",
       "        124.612, 117.148, 124.612, 117.148, 124.612, 117.148, 124.612,\n",
       "        117.148, 124.612, 117.148, 124.612, 117.148, 124.612, 117.148,\n",
       "        124.612, 117.148, 124.612, 117.148, 124.612, 117.148, 124.612,\n",
       "        117.148, 124.612],\n",
       "       [116.948, 124.412, 116.948, 124.412, 116.948, 124.412, 116.948,\n",
       "        124.412, 116.948, 124.412, 116.948, 124.412, 116.948, 124.412,\n",
       "        116.948, 124.412, 116.948, 124.412, 116.948, 124.412, 116.948,\n",
       "        124.412, 116.948, 124.412, 116.948, 124.412, 116.948, 124.412,\n",
       "        116.948, 124.412],\n",
       "       [128.398, 133.702, 128.398, 133.702, 128.398, 133.702, 128.398,\n",
       "        133.702, 128.398, 133.702, 128.398, 133.702, 128.398, 133.702,\n",
       "        128.398, 133.702, 128.398, 133.702, 128.398, 133.702, 128.398,\n",
       "        133.702, 128.398, 133.702, 128.398, 133.702, 128.398, 133.702,\n",
       "        128.398, 133.702],\n",
       "       [128.198, 133.502, 128.198, 133.502, 128.198, 133.502, 128.198,\n",
       "        133.502, 128.198, 133.502, 128.198, 133.502, 128.198, 133.502,\n",
       "        128.198, 133.502, 128.198, 133.502, 128.198, 133.502, 128.198,\n",
       "        133.502, 128.198, 133.502, 128.198, 133.502, 128.198, 133.502,\n",
       "        128.198, 133.502],\n",
       "       [124.726, 143.638, 124.726, 143.638, 124.726, 143.638, 124.726,\n",
       "        143.638, 124.726, 143.638, 124.726, 143.638, 124.726, 143.638,\n",
       "        124.726, 143.638, 124.726, 143.638, 124.726, 143.638, 124.726,\n",
       "        143.638, 124.726, 143.638, 124.726, 143.638, 124.726, 143.638,\n",
       "        124.726, 143.638],\n",
       "       [124.526, 143.438, 124.526, 143.438, 124.526, 143.438, 124.526,\n",
       "        143.438, 124.526, 143.438, 124.526, 143.438, 124.526, 143.438,\n",
       "        124.526, 143.438, 124.526, 143.438, 124.526, 143.438, 124.526,\n",
       "        143.438, 124.526, 143.438, 124.526, 143.438, 124.526, 143.438,\n",
       "        124.526, 143.438],\n",
       "       [135.976, 152.728, 135.976, 152.728, 135.976, 152.728, 135.976,\n",
       "        152.728, 135.976, 152.728, 135.976, 152.728, 135.976, 152.728,\n",
       "        135.976, 152.728, 135.976, 152.728, 135.976, 152.728, 135.976,\n",
       "        152.728, 135.976, 152.728, 135.976, 152.728, 135.976, 152.728,\n",
       "        135.976, 152.728],\n",
       "       [135.776, 152.528, 135.776, 152.528, 135.776, 152.528, 135.776,\n",
       "        152.528, 135.776, 152.528, 135.776, 152.528, 135.776, 152.528,\n",
       "        135.776, 152.528, 135.776, 152.528, 135.776, 152.528, 135.776,\n",
       "        152.528, 135.776, 152.528, 135.776, 152.528, 135.776, 152.528,\n",
       "        135.776, 152.528]])"
      ]
     },
     "execution_count": 130,
     "metadata": {},
     "output_type": "execute_result"
    }
   ],
   "source": [
    "data[tuple(edge_indices.transpose(1,0,2))]"
   ]
  },
  {
   "cell_type": "code",
   "execution_count": 131,
   "id": "34f74582",
   "metadata": {},
   "outputs": [
    {
     "data": {
      "text/plain": [
       "array([[0.11111111, 0.        ],\n",
       "       [0.11111111, 0.        ],\n",
       "       [0.05555556, 0.16666667],\n",
       "       [0.05555556, 0.16666667],\n",
       "       [0.22222222, 0.        ],\n",
       "       [0.22222222, 0.        ],\n",
       "       [0.11111111, 0.33333333],\n",
       "       [0.11111111, 0.33333333]])"
      ]
     },
     "execution_count": 131,
     "metadata": {},
     "output_type": "execute_result"
    }
   ],
   "source": [
    "weights"
   ]
  },
  {
   "cell_type": "code",
   "execution_count": 134,
   "id": "2980e5a4",
   "metadata": {},
   "outputs": [
    {
     "name": "stdout",
     "output_type": "stream",
     "text": [
      "24.9 µs ± 320 ns per loop (mean ± std. dev. of 7 runs, 10000 loops each)\n"
     ]
    }
   ],
   "source": [
    "\n",
    "%timeit np.sum(data[tuple(map(tuple, edge_indices.transpose(1,0,2)))] * weights, axis=0)"
   ]
  },
  {
   "cell_type": "code",
   "execution_count": 135,
   "id": "5ec4a013",
   "metadata": {},
   "outputs": [
    {
     "name": "stdout",
     "output_type": "stream",
     "text": [
      "24.6 µs ± 873 ns per loop (mean ± std. dev. of 7 runs, 10000 loops each)\n"
     ]
    }
   ],
   "source": [
    "%timeit np.diag(np.dot(data[tuple(map(tuple, edge_indices.transpose(1,0,2)))].T, weights))"
   ]
  },
  {
   "cell_type": "code",
   "execution_count": 95,
   "id": "85e5e2af",
   "metadata": {},
   "outputs": [
    {
     "data": {
      "text/plain": [
       "((8, 2), (8, 2))"
      ]
     },
     "execution_count": 95,
     "metadata": {},
     "output_type": "execute_result"
    }
   ],
   "source": [
    "data[tuple(map(tuple, edge_indices.transpose(1,0,2)))].shape, weights.shape"
   ]
  },
  {
   "cell_type": "code",
   "execution_count": 133,
   "id": "2de4b190",
   "metadata": {},
   "outputs": [
    {
     "data": {
      "text/plain": [
       "array([125.85 , 146.286, 125.85 , 146.286, 125.85 , 146.286, 125.85 ,\n",
       "       146.286, 125.85 , 146.286, 125.85 , 146.286, 125.85 , 146.286,\n",
       "       125.85 , 146.286, 125.85 , 146.286, 125.85 , 146.286, 125.85 ,\n",
       "       146.286, 125.85 , 146.286, 125.85 , 146.286, 125.85 , 146.286,\n",
       "       125.85 , 146.286])"
      ]
     },
     "execution_count": 133,
     "metadata": {},
     "output_type": "execute_result"
    }
   ],
   "source": [
    "np.sum(data[edge_indices[:,0], edge_indices[:,1], edge_indices[:,2]] * weights, axis=0)"
   ]
  },
  {
   "cell_type": "code",
   "execution_count": 103,
   "id": "70472bdc",
   "metadata": {},
   "outputs": [
    {
     "data": {
      "text/plain": [
       "((2, 3), (2, 3, 8))"
      ]
     },
     "execution_count": 103,
     "metadata": {},
     "output_type": "execute_result"
    }
   ],
   "source": [
    "indices.shape, edge_indices.T.shape"
   ]
  },
  {
   "cell_type": "code",
   "execution_count": 114,
   "id": "67579047",
   "metadata": {},
   "outputs": [
    {
     "data": {
      "text/plain": [
       "(array([[0.33333333, 0.66666667, 0.5       ],\n",
       "        [0.33333333, 0.        , 0.5       ]]),\n",
       " array([[0.66666667, 0.33333333, 0.5       ],\n",
       "        [0.66666667, 1.        , 0.5       ]]))"
      ]
     },
     "execution_count": 114,
     "metadata": {},
     "output_type": "execute_result"
    }
   ],
   "source": [
    "1-norm_distances, norm_distances"
   ]
  },
  {
   "cell_type": "code",
   "execution_count": null,
   "id": "22baccd2",
   "metadata": {},
   "outputs": [],
   "source": []
  },
  {
   "cell_type": "code",
   "execution_count": 132,
   "id": "6b21ffec",
   "metadata": {},
   "outputs": [
    {
     "data": {
      "text/plain": [
       "array([[0.11111111, 0.        , 0.11111111, 0.        , 0.11111111,\n",
       "        0.        , 0.11111111, 0.        , 0.11111111, 0.        ,\n",
       "        0.11111111, 0.        , 0.11111111, 0.        , 0.11111111,\n",
       "        0.        , 0.11111111, 0.        , 0.11111111, 0.        ,\n",
       "        0.11111111, 0.        , 0.11111111, 0.        , 0.11111111,\n",
       "        0.        , 0.11111111, 0.        , 0.11111111, 0.        ],\n",
       "       [0.11111111, 0.        , 0.11111111, 0.        , 0.11111111,\n",
       "        0.        , 0.11111111, 0.        , 0.11111111, 0.        ,\n",
       "        0.11111111, 0.        , 0.11111111, 0.        , 0.11111111,\n",
       "        0.        , 0.11111111, 0.        , 0.11111111, 0.        ,\n",
       "        0.11111111, 0.        , 0.11111111, 0.        , 0.11111111,\n",
       "        0.        , 0.11111111, 0.        , 0.11111111, 0.        ],\n",
       "       [0.05555556, 0.16666667, 0.05555556, 0.16666667, 0.05555556,\n",
       "        0.16666667, 0.05555556, 0.16666667, 0.05555556, 0.16666667,\n",
       "        0.05555556, 0.16666667, 0.05555556, 0.16666667, 0.05555556,\n",
       "        0.16666667, 0.05555556, 0.16666667, 0.05555556, 0.16666667,\n",
       "        0.05555556, 0.16666667, 0.05555556, 0.16666667, 0.05555556,\n",
       "        0.16666667, 0.05555556, 0.16666667, 0.05555556, 0.16666667],\n",
       "       [0.05555556, 0.16666667, 0.05555556, 0.16666667, 0.05555556,\n",
       "        0.16666667, 0.05555556, 0.16666667, 0.05555556, 0.16666667,\n",
       "        0.05555556, 0.16666667, 0.05555556, 0.16666667, 0.05555556,\n",
       "        0.16666667, 0.05555556, 0.16666667, 0.05555556, 0.16666667,\n",
       "        0.05555556, 0.16666667, 0.05555556, 0.16666667, 0.05555556,\n",
       "        0.16666667, 0.05555556, 0.16666667, 0.05555556, 0.16666667],\n",
       "       [0.22222222, 0.        , 0.22222222, 0.        , 0.22222222,\n",
       "        0.        , 0.22222222, 0.        , 0.22222222, 0.        ,\n",
       "        0.22222222, 0.        , 0.22222222, 0.        , 0.22222222,\n",
       "        0.        , 0.22222222, 0.        , 0.22222222, 0.        ,\n",
       "        0.22222222, 0.        , 0.22222222, 0.        , 0.22222222,\n",
       "        0.        , 0.22222222, 0.        , 0.22222222, 0.        ],\n",
       "       [0.22222222, 0.        , 0.22222222, 0.        , 0.22222222,\n",
       "        0.        , 0.22222222, 0.        , 0.22222222, 0.        ,\n",
       "        0.22222222, 0.        , 0.22222222, 0.        , 0.22222222,\n",
       "        0.        , 0.22222222, 0.        , 0.22222222, 0.        ,\n",
       "        0.22222222, 0.        , 0.22222222, 0.        , 0.22222222,\n",
       "        0.        , 0.22222222, 0.        , 0.22222222, 0.        ],\n",
       "       [0.11111111, 0.33333333, 0.11111111, 0.33333333, 0.11111111,\n",
       "        0.33333333, 0.11111111, 0.33333333, 0.11111111, 0.33333333,\n",
       "        0.11111111, 0.33333333, 0.11111111, 0.33333333, 0.11111111,\n",
       "        0.33333333, 0.11111111, 0.33333333, 0.11111111, 0.33333333,\n",
       "        0.11111111, 0.33333333, 0.11111111, 0.33333333, 0.11111111,\n",
       "        0.33333333, 0.11111111, 0.33333333, 0.11111111, 0.33333333],\n",
       "       [0.11111111, 0.33333333, 0.11111111, 0.33333333, 0.11111111,\n",
       "        0.33333333, 0.11111111, 0.33333333, 0.11111111, 0.33333333,\n",
       "        0.11111111, 0.33333333, 0.11111111, 0.33333333, 0.11111111,\n",
       "        0.33333333, 0.11111111, 0.33333333, 0.11111111, 0.33333333,\n",
       "        0.11111111, 0.33333333, 0.11111111, 0.33333333, 0.11111111,\n",
       "        0.33333333, 0.11111111, 0.33333333, 0.11111111, 0.33333333]])"
      ]
     },
     "execution_count": 132,
     "metadata": {},
     "output_type": "execute_result"
    }
   ],
   "source": [
    "weights = np.product(np.where(edge_indices == indices.T, 1-norm_distances.T, norm_distances.T).T, axis=1).T\n",
    "weights"
   ]
  },
  {
   "cell_type": "code",
   "execution_count": 150,
   "id": "d56cf57e",
   "metadata": {},
   "outputs": [
    {
     "data": {
      "text/plain": [
       "(11, 11, 11)"
      ]
     },
     "execution_count": 150,
     "metadata": {},
     "output_type": "execute_result"
    }
   ],
   "source": [
    "data.shape"
   ]
  },
  {
   "cell_type": "code",
   "execution_count": 151,
   "id": "6e0b43e7",
   "metadata": {},
   "outputs": [
    {
     "data": {
      "text/plain": [
       "(8, 3, 2)"
      ]
     },
     "execution_count": 151,
     "metadata": {},
     "output_type": "execute_result"
    }
   ],
   "source": [
    "edge_indices.shape"
   ]
  },
  {
   "cell_type": "code",
   "execution_count": 182,
   "id": "dcf888f7",
   "metadata": {},
   "outputs": [
    {
     "data": {
      "text/plain": [
       "(8, 3, 2, 11, 11)"
      ]
     },
     "execution_count": 182,
     "metadata": {},
     "output_type": "execute_result"
    }
   ],
   "source": [
    "data[edge_indices].shape"
   ]
  },
  {
   "cell_type": "code",
   "execution_count": null,
   "id": "35dcb813",
   "metadata": {},
   "outputs": [],
   "source": [
    "values = 0.\n",
    "for a, edge_indices in enumerate(edges):\n",
    "    print(a,*edge_indices, sep='\\n')\n",
    "    weight = 1.\n",
    "    for ei, i, yi in zip(edge_indices, indices, norm_distances):\n",
    "        weight *= np.where(ei == i, 1 - yi, yi)\n",
    "    values += np.asarray(self.values[edge_indices]) * weight[vslice]\n",
    "return values"
   ]
  },
  {
   "cell_type": "code",
   "execution_count": 9,
   "id": "c8e0d8ac",
   "metadata": {},
   "outputs": [],
   "source": [
    "from scipy.interpolate.interpnd import _ndim_coords_from_arrays\n",
    "import itertools\n",
    "class RegularGridInterpolator:\n",
    "   \n",
    "    # this class is based on code originally programmed by Johannes Buchner,\n",
    "    # see https://github.com/JohannesBuchner/regulargrid\n",
    "    \n",
    "    def __init__(self, points, values, method=\"linear\", bounds_error=True,\n",
    "                 fill_value=np.nan):\n",
    "        if method not in [\"linear\", \"nearest\", \"numba\"]:\n",
    "            raise ValueError(\"Method '%s' is not defined\" % method)\n",
    "        self.method = method\n",
    "        self.bounds_error = bounds_error\n",
    "\n",
    "        if not hasattr(values, 'ndim'):\n",
    "            # allow reasonable duck-typed values\n",
    "            values = np.asarray(values)\n",
    "\n",
    "        if len(points) > values.ndim:\n",
    "            raise ValueError(\"There are %d point arrays, but values has %d \"\n",
    "                             \"dimensions\" % (len(points), values.ndim))\n",
    "\n",
    "        if hasattr(values, 'dtype') and hasattr(values, 'astype'):\n",
    "            if not np.issubdtype(values.dtype, np.inexact):\n",
    "                values = values.astype(float)\n",
    "\n",
    "        self.fill_value = fill_value\n",
    "        if fill_value is not None:\n",
    "            fill_value_dtype = np.asarray(fill_value).dtype\n",
    "            if (hasattr(values, 'dtype') and not\n",
    "                    np.can_cast(fill_value_dtype, values.dtype,\n",
    "                                casting='same_kind')):\n",
    "                raise ValueError(\"fill_value must be either 'None' or \"\n",
    "                                 \"of a type compatible with values\")\n",
    "\n",
    "        for i, p in enumerate(points):\n",
    "            if not np.all(np.diff(p) > 0.):\n",
    "                raise ValueError(\"The points in dimension %d must be strictly \"\n",
    "                                 \"ascending\" % i)\n",
    "            if not np.asarray(p).ndim == 1:\n",
    "                raise ValueError(\"The points in dimension %d must be \"\n",
    "                                 \"1-dimensional\" % i)\n",
    "            if not values.shape[i] == len(p):\n",
    "                raise ValueError(\"There are %d points and %d values in \"\n",
    "                                 \"dimension %d\" % (len(p), values.shape[i], i))\n",
    "        self.grid = tuple([np.asarray(p) for p in points])\n",
    "        self.values = values\n",
    "\n",
    "    def __call__(self, xi, method=None):\n",
    "        \"\"\"\n",
    "        Interpolation at coordinates\n",
    "        Parameters\n",
    "        ----------\n",
    "        xi : ndarray of shape (..., ndim)\n",
    "            The coordinates to sample the gridded data at\n",
    "        method : str\n",
    "            The method of interpolation to perform. Supported are \"linear\" and\n",
    "            \"nearest\".\n",
    "        \"\"\"\n",
    "        method = self.method if method is None else method\n",
    "        if method not in [\"linear\", \"nearest\", \"numba\"]:\n",
    "            raise ValueError(\"Method '%s' is not defined\" % method)\n",
    "\n",
    "        ndim = len(self.grid)\n",
    "        xi = _ndim_coords_from_arrays(xi, ndim=ndim)\n",
    "        if xi.shape[-1] != len(self.grid):\n",
    "            raise ValueError(\"The requested sample points xi have dimension \"\n",
    "                             \"%d, but this RegularGridInterpolator has \"\n",
    "                             \"dimension %d\" % (xi.shape[1], ndim))\n",
    "\n",
    "        xi_shape = xi.shape\n",
    "        xi = xi.reshape(-1, xi_shape[-1])\n",
    "\n",
    "        if self.bounds_error:\n",
    "            for i, p in enumerate(xi.T):\n",
    "                if not np.logical_and(np.all(self.grid[i][0] <= p),\n",
    "                                      np.all(p <= self.grid[i][-1])):\n",
    "                    raise ValueError(\"One of the requested xi is out of bounds \"\n",
    "                                     \"in dimension %d\" % i)\n",
    "#         t_1 = time.time()\n",
    "#         indices, norm_distances, out_of_bounds = self._find_indices(xi.T)\n",
    "#         t_2 = time.time()\n",
    "#         print(t_2 - t_1, 's')\n",
    "        if method == \"linear\":\n",
    "#             result = self._evaluate_linear(indices,\n",
    "#                                            norm_distances,\n",
    "#                                            out_of_bounds)\n",
    "            result = self._evalulate_linear(xi)\n",
    "        elif method == \"nearest\":\n",
    "            result = self._evaluate_nearest(indices,\n",
    "                                            norm_distances,\n",
    "                                            out_of_bounds)\n",
    "        elif method == 'numba':\n",
    "            values = self.values\n",
    "            edges = list(itertools.product(*[[i, i + 1] for i in indices]))\n",
    "            result = evaluate_linear_nb(values, \n",
    "                                        edges,\n",
    "                                        indices,\n",
    "                                        norm_distances,\n",
    "                                        out_of_bounds)\n",
    "            \n",
    "        if not self.bounds_error and self.fill_value is not None:\n",
    "            result[out_of_bounds] = self.fill_value\n",
    "\n",
    "        return result.reshape(xi_shape[:-1] + self.values.shape[ndim:])\n",
    "\n",
    "    \n",
    "    def _evalulate_linear(self, xi):\n",
    "        grid = np.asarray(self.grid)\n",
    "        n_coords, ndim = np.shape(xi)\n",
    "        indices = np.sum(grid.T < xi.reshape(n_coords,1,ndim), axis=1) - 1 \n",
    "        ndim_axes = np.arange(ndim)\n",
    "        tmp = grid[ndim_axes, indices]\n",
    "        norm_distances = ((xi - tmp) / (grid[ndim_axes, indices+1] - tmp)).T\n",
    "        edge_indices = np.array(list(itertools.product(*[[i, i + 1] for i in indices.T])))\n",
    "#         edge_indices = np.array(list(itertools.product(np.hstack([indices.T, indices.T + 1]).reshape(n_coords,2,2))))\n",
    "        weights = np.product(np.where(edge_indices == indices.T, 1-norm_distances, norm_distances), axis=1)\n",
    "#         weights = np.where(edge_indices == indices.T, 1-norm_distances, norm_distances).prod(axis=1)\n",
    "#         print(np.product(np.where(edge_indices == indices.T, 1-norm_distances, norm_distances), axis=1).shape)\n",
    "#         print(np.where(edge_indices == indices.T, 1-norm_distances, norm_distances).shape)\n",
    "        \n",
    "#         print(weights.shape)\n",
    "#         edge_indices = edge_indices.transpose(1,0,2).tolist()\n",
    "#         return np.sum(self.values[tuple(edge_indices)] * weights, axis=0)\n",
    "        edge_indices = tuple(map(tuple, edge_indices.transpose(1,0,2)))\n",
    "        return (self.values[edge_indices] * weights).sum(axis=0)\n",
    "#         return np.sum(self.values[edge_indices] * weights, axis=0)\n",
    "        "
   ]
  },
  {
   "cell_type": "code",
   "execution_count": 10,
   "id": "cdd87a47",
   "metadata": {},
   "outputs": [
    {
     "ename": "ValueError",
     "evalue": "The truth value of an array with more than one element is ambiguous. Use a.any() or a.all()",
     "output_type": "error",
     "traceback": [
      "\u001b[1;31m---------------------------------------------------------------------------\u001b[0m",
      "\u001b[1;31mValueError\u001b[0m                                Traceback (most recent call last)",
      "\u001b[1;32m<ipython-input-10-0802f757194b>\u001b[0m in \u001b[0;36m<module>\u001b[1;34m\u001b[0m\n\u001b[0;32m     38\u001b[0m \u001b[0mgrid\u001b[0m \u001b[1;33m=\u001b[0m \u001b[0mnp\u001b[0m\u001b[1;33m.\u001b[0m\u001b[0masarray\u001b[0m\u001b[1;33m(\u001b[0m\u001b[1;33m[\u001b[0m\u001b[0mx\u001b[0m\u001b[1;33m,\u001b[0m\u001b[0my\u001b[0m\u001b[1;33m,\u001b[0m\u001b[0mz\u001b[0m\u001b[1;33m]\u001b[0m\u001b[1;33m)\u001b[0m\u001b[1;33m\u001b[0m\u001b[1;33m\u001b[0m\u001b[0m\n\u001b[0;32m     39\u001b[0m \u001b[1;33m\u001b[0m\u001b[0m\n\u001b[1;32m---> 40\u001b[1;33m \u001b[0mmy_interpolating_function_new\u001b[0m\u001b[1;33m(\u001b[0m\u001b[0mpts\u001b[0m\u001b[1;33m)\u001b[0m\u001b[1;33m\u001b[0m\u001b[1;33m\u001b[0m\u001b[0m\n\u001b[0m",
      "\u001b[1;32m<ipython-input-9-d9ed58556a87>\u001b[0m in \u001b[0;36m__call__\u001b[1;34m(self, xi, method)\u001b[0m\n\u001b[0;32m     86\u001b[0m \u001b[1;31m#                                            norm_distances,\u001b[0m\u001b[1;33m\u001b[0m\u001b[1;33m\u001b[0m\u001b[1;33m\u001b[0m\u001b[0m\n\u001b[0;32m     87\u001b[0m \u001b[1;31m#                                            out_of_bounds)\u001b[0m\u001b[1;33m\u001b[0m\u001b[1;33m\u001b[0m\u001b[1;33m\u001b[0m\u001b[0m\n\u001b[1;32m---> 88\u001b[1;33m             \u001b[0mresult\u001b[0m \u001b[1;33m=\u001b[0m \u001b[0mself\u001b[0m\u001b[1;33m.\u001b[0m\u001b[0m_evalulate_linear\u001b[0m\u001b[1;33m(\u001b[0m\u001b[0mxi\u001b[0m\u001b[1;33m)\u001b[0m\u001b[1;33m\u001b[0m\u001b[1;33m\u001b[0m\u001b[0m\n\u001b[0m\u001b[0;32m     89\u001b[0m         \u001b[1;32melif\u001b[0m \u001b[0mmethod\u001b[0m \u001b[1;33m==\u001b[0m \u001b[1;34m\"nearest\"\u001b[0m\u001b[1;33m:\u001b[0m\u001b[1;33m\u001b[0m\u001b[1;33m\u001b[0m\u001b[0m\n\u001b[0;32m     90\u001b[0m             result = self._evaluate_nearest(indices,\n",
      "\u001b[1;32m<ipython-input-9-d9ed58556a87>\u001b[0m in \u001b[0;36m_evalulate_linear\u001b[1;34m(self, xi)\u001b[0m\n\u001b[0;32m    109\u001b[0m         \u001b[0mgrid\u001b[0m \u001b[1;33m=\u001b[0m \u001b[0mnp\u001b[0m\u001b[1;33m.\u001b[0m\u001b[0masarray\u001b[0m\u001b[1;33m(\u001b[0m\u001b[0mself\u001b[0m\u001b[1;33m.\u001b[0m\u001b[0mgrid\u001b[0m\u001b[1;33m)\u001b[0m\u001b[1;33m\u001b[0m\u001b[1;33m\u001b[0m\u001b[0m\n\u001b[0;32m    110\u001b[0m         \u001b[0mn_coords\u001b[0m\u001b[1;33m,\u001b[0m \u001b[0mndim\u001b[0m \u001b[1;33m=\u001b[0m \u001b[0mnp\u001b[0m\u001b[1;33m.\u001b[0m\u001b[0mshape\u001b[0m\u001b[1;33m(\u001b[0m\u001b[0mxi\u001b[0m\u001b[1;33m)\u001b[0m\u001b[1;33m\u001b[0m\u001b[1;33m\u001b[0m\u001b[0m\n\u001b[1;32m--> 111\u001b[1;33m         \u001b[0mindices\u001b[0m \u001b[1;33m=\u001b[0m \u001b[0mnp\u001b[0m\u001b[1;33m.\u001b[0m\u001b[0msum\u001b[0m\u001b[1;33m(\u001b[0m\u001b[0mgrid\u001b[0m\u001b[1;33m.\u001b[0m\u001b[0mT\u001b[0m \u001b[1;33m<\u001b[0m \u001b[0mxi\u001b[0m\u001b[1;33m.\u001b[0m\u001b[0mreshape\u001b[0m\u001b[1;33m(\u001b[0m\u001b[0mn_coords\u001b[0m\u001b[1;33m,\u001b[0m\u001b[1;36m1\u001b[0m\u001b[1;33m,\u001b[0m\u001b[0mndim\u001b[0m\u001b[1;33m)\u001b[0m\u001b[1;33m,\u001b[0m \u001b[0maxis\u001b[0m\u001b[1;33m=\u001b[0m\u001b[1;36m1\u001b[0m\u001b[1;33m)\u001b[0m \u001b[1;33m-\u001b[0m \u001b[1;36m1\u001b[0m\u001b[1;33m\u001b[0m\u001b[1;33m\u001b[0m\u001b[0m\n\u001b[0m\u001b[0;32m    112\u001b[0m         \u001b[0mndim_axes\u001b[0m \u001b[1;33m=\u001b[0m \u001b[0mnp\u001b[0m\u001b[1;33m.\u001b[0m\u001b[0marange\u001b[0m\u001b[1;33m(\u001b[0m\u001b[0mndim\u001b[0m\u001b[1;33m)\u001b[0m\u001b[1;33m\u001b[0m\u001b[1;33m\u001b[0m\u001b[0m\n\u001b[0;32m    113\u001b[0m         \u001b[0mtmp\u001b[0m \u001b[1;33m=\u001b[0m \u001b[0mgrid\u001b[0m\u001b[1;33m[\u001b[0m\u001b[0mndim_axes\u001b[0m\u001b[1;33m,\u001b[0m \u001b[0mindices\u001b[0m\u001b[1;33m]\u001b[0m\u001b[1;33m\u001b[0m\u001b[1;33m\u001b[0m\u001b[0m\n",
      "\u001b[1;31mValueError\u001b[0m: The truth value of an array with more than one element is ambiguous. Use a.any() or a.all()"
     ]
    }
   ],
   "source": [
    "my_interpolating_function_new = RegularGridInterpolator((x, y, z), data)\n",
    "\n",
    "# pts = np.array([[2.1, 6.2, 8.3], \n",
    "#                 [3.3, 5.2, 7.1],\n",
    "#                 [2.1, 6.2, 8.3], \n",
    "#                 [3.3, 5.2, 7.1],\n",
    "#                 [2.1, 6.2, 8.3], \n",
    "#                 [3.3, 5.2, 7.1],\n",
    "#                 [2.1, 6.2, 8.3], \n",
    "#                 [3.3, 5.2, 7.1],\n",
    "#                 [2.1, 6.2, 8.3], \n",
    "#                 [3.3, 5.2, 7.1],\n",
    "#                 [2.1, 6.2, 8.3], \n",
    "#                 [3.3, 5.2, 7.1],\n",
    "#                 [2.1, 6.2, 8.3], \n",
    "#                 [3.3, 5.2, 7.1],\n",
    "#                 [2.1, 6.2, 8.3], \n",
    "#                 [3.3, 5.2, 7.1],\n",
    "#                 [2.1, 6.2, 8.3], \n",
    "#                 [3.3, 5.2, 7.1],\n",
    "#                 [2.1, 6.2, 8.3], \n",
    "#                 [3.3, 5.2, 7.1],\n",
    "#                 [2.1, 6.2, 8.3], \n",
    "#                 [3.3, 5.2, 7.1],\n",
    "#                 [2.1, 6.2, 8.3], \n",
    "#                 [3.3, 5.2, 7.1],\n",
    "#                 [2.1, 6.2, 8.3], \n",
    "#                 [3.3, 5.2, 7.1],\n",
    "#                 [2.1, 6.2, 8.3], \n",
    "#                 [3.3, 5.2, 7.1],\n",
    "#                 [2.1, 6.2, 8.3], \n",
    "#                 [3.3, 5.2, 7.1]])\n",
    "pts = np.array([np.random.uniform(x.min(), x.max(), 10000),\n",
    "          np.random.uniform(y.min(), y.max(), 10000),\n",
    "          np.random.uniform(z.min(), z.max(), 10000)]).T\n",
    "\n",
    "\n",
    "grid = np.asarray([x,y,z])\n",
    "\n",
    "my_interpolating_function_new(pts)"
   ]
  },
  {
   "cell_type": "raw",
   "id": "183da561",
   "metadata": {},
   "source": [
    "176 µs ± 1.85 µs per loop (mean ± std. dev. of 7 runs, 10000 loops each)\n",
    "199 µs ± 14.9 µs per loop (mean ± std. dev. of 7 runs, 1000 loops each)"
   ]
  },
  {
   "cell_type": "code",
   "execution_count": 537,
   "id": "eb2099ad",
   "metadata": {},
   "outputs": [
    {
     "data": {
      "text/plain": [
       "array([ 78.3704337 , 205.71753648,  76.00304522, ..., 145.74687117,\n",
       "       114.959507  ,  72.36169083])"
      ]
     },
     "execution_count": 537,
     "metadata": {},
     "output_type": "execute_result"
    }
   ],
   "source": [
    "my_interpolating_function(pts)"
   ]
  },
  {
   "cell_type": "code",
   "execution_count": 538,
   "id": "a2001e84",
   "metadata": {},
   "outputs": [
    {
     "name": "stdout",
     "output_type": "stream",
     "text": [
      "3.97 ms ± 25.7 µs per loop (mean ± std. dev. of 7 runs, 100 loops each)\n"
     ]
    }
   ],
   "source": [
    "%timeit my_interpolating_function_new(pts)"
   ]
  },
  {
   "cell_type": "code",
   "execution_count": 539,
   "id": "442c84df",
   "metadata": {},
   "outputs": [
    {
     "name": "stdout",
     "output_type": "stream",
     "text": [
      "1.96 ms ± 13.1 µs per loop (mean ± std. dev. of 7 runs, 1000 loops each)\n"
     ]
    }
   ],
   "source": [
    "%timeit my_interpolating_function(pts)"
   ]
  },
  {
   "cell_type": "code",
   "execution_count": 460,
   "id": "c38f5213",
   "metadata": {},
   "outputs": [],
   "source": [
    "import time"
   ]
  },
  {
   "cell_type": "code",
   "execution_count": 520,
   "id": "590315e3",
   "metadata": {},
   "outputs": [],
   "source": [
    "\n",
    "N = np.logspace(0, 7, dtype=int)\n",
    "times_new = np.zeros(len(N))\n",
    "times_og = np.zeros(len(N))\n",
    "\n",
    "for i, n in enumerate(N):\n",
    "    pts = np.array([np.random.uniform(x.min(), x.max(), n),\n",
    "                    np.random.uniform(y.min(), y.max(), n),\n",
    "                    np.random.uniform(z.min(), z.max(), n)]).T\n",
    "    \n",
    "    t1 = time.time()\n",
    "    #my_interpolating_function_new(pts)\n",
    "    reg_grid_interp(pts, (x, y, z), data)\n",
    "    times_new[i] =  time.time() - t1\n",
    "    \n",
    "    t1 =  time.time()\n",
    "    my_interpolating_function(pts)\n",
    "    times_og[i] =  time.time() - t1\n",
    "    \n",
    "pts = None"
   ]
  },
  {
   "cell_type": "code",
   "execution_count": 521,
   "id": "34163623",
   "metadata": {},
   "outputs": [
    {
     "data": {
      "text/plain": [
       "array([9.97066498e-04, 9.61542130e-04, 9.95635986e-04, 4.98771667e-04,\n",
       "       4.70876694e-04, 5.36441803e-04, 1.00731850e-03, 9.97304916e-04,\n",
       "       0.00000000e+00, 5.02109528e-04, 5.03301620e-04, 5.30242920e-04,\n",
       "       5.15937805e-04, 0.00000000e+00, 4.63008881e-04, 4.95910645e-04,\n",
       "       4.78506088e-04, 4.68492508e-04, 4.92811203e-04, 4.99010086e-04,\n",
       "       0.00000000e+00, 4.99486923e-04, 0.00000000e+00, 4.99486923e-04,\n",
       "       9.76085663e-04, 5.24044037e-04, 1.52087212e-03, 2.97546387e-03,\n",
       "       3.97491455e-03, 5.51080704e-03, 6.48736954e-03, 1.00023746e-02,\n",
       "       1.44999027e-02, 1.85043812e-02, 2.75282860e-02, 4.19986248e-02,\n",
       "       5.69703579e-02, 7.85028934e-02, 1.05502129e-01, 1.42497540e-01,\n",
       "       2.01462030e-01, 2.77487993e-01, 3.95477057e-01, 5.64023972e-01,\n",
       "       7.82023668e-01, 1.17051196e+00, 1.50052977e+00, 2.17449832e+00,\n",
       "       2.97399926e+00, 4.08548212e+00])"
      ]
     },
     "execution_count": 521,
     "metadata": {},
     "output_type": "execute_result"
    }
   ],
   "source": [
    "times_new"
   ]
  },
  {
   "cell_type": "code",
   "execution_count": 522,
   "id": "ef22650f",
   "metadata": {},
   "outputs": [
    {
     "data": {
      "text/plain": [
       "<matplotlib.legend.Legend at 0x15c83e9c8e0>"
      ]
     },
     "execution_count": 522,
     "metadata": {},
     "output_type": "execute_result"
    },
    {
     "data": {
      "image/png": "[encoded data removed]",
      "text/plain": [
       "<Figure size 432x288 with 1 Axes>"
      ]
     },
     "metadata": {
      "needs_background": "light"
     },
     "output_type": "display_data"
    }
   ],
   "source": [
    "import matplotlib.pyplot as plt\n",
    "\n",
    "plt.xlabel('N')\n",
    "plt.ylabel('t')\n",
    "plt.plot(N, times_new, label='numpy')\n",
    "plt.plot(N, times_og, label='scipy')\n",
    "plt.xscale('log')\n",
    "# plt.yscale('log')\n",
    "plt.legend()"
   ]
  },
  {
   "cell_type": "code",
   "execution_count": 119,
   "id": "fd9aa271",
   "metadata": {},
   "outputs": [
    {
     "data": {
      "text/plain": [
       "<matplotlib.legend.Legend at 0x15c83c45610>"
      ]
     },
     "execution_count": 119,
     "metadata": {},
     "output_type": "execute_result"
    },
    {
     "data": {
      "image/png": "[encoded data removed]",
      "text/plain": [
       "<Figure size 432x288 with 1 Axes>"
      ]
     },
     "metadata": {
      "needs_background": "light"
     },
     "output_type": "display_data"
    }
   ],
   "source": [
    "plt.xlabel('N')\n",
    "plt.ylabel('t')\n",
    "plt.plot(N, times_new- times_og, label='residuals')\n",
    "\n",
    "plt.xscale('log')\n",
    "plt.legend()"
   ]
  },
  {
   "cell_type": "code",
   "execution_count": 11,
   "id": "136ffbec",
   "metadata": {},
   "outputs": [],
   "source": [
    "def get_indices(xi, grid):\n",
    "#     indices = []\n",
    "#     for x, g in zip(xi, grid):\n",
    "#         i = np.searchsorted(g, x) - 1\n",
    "#         i[i < 0] = 0\n",
    "#         i[i > g.size - 2] = g.size - 2\n",
    "#         indices.append(i)\n",
    "#     print(np.array(indices).T)#, indices)\n",
    "    indices_ = np.array([np.searchsorted(g, x) - 1 for x, g in zip(xi, grid)]).T\n",
    "    return indices_\n",
    "#     print(indices_)\n",
    "#     return np.array(indices).T\n",
    "\n",
    "def reg_grid_interp(xi, grid, values):\n",
    "    \n",
    "#     grid = tuple([np.asarray(p) for p in points])\n",
    "#     values = values\n",
    "    grid = np.asarray(grid)\n",
    "    n_coords, ndim = np.shape(xi)\n",
    "#     print(get_indices(xi.T, grid).shape)\n",
    "#     indices = np.sum(grid.T < xi.reshape(n_coords,1,ndim), axis=1) - 1 \n",
    "    indices = get_indices(xi.T, grid)\n",
    "#     print(indices.shape)\n",
    "    ndim_axes = np.arange(ndim)\n",
    "    tmp = grid[ndim_axes, indices]\n",
    "    norm_distances = ((xi - tmp) / (grid[ndim_axes, indices+1] - tmp)).T\n",
    "    edge_indices = np.array(list(itertools.product(*[[i, i + 1] for i in indices.T])))\n",
    "#     edge_indices = np.fromiter(itertools.product(*[[i, i + 1] for i in indices.T]), int)\n",
    "#         edge_indices = np.array(list(itertools.product(np.hstack([indices.T, indices.T + 1]).reshape(n_coords,2,2))))\n",
    "#     weights = np.product(np.where(edge_indices == indices.T, 1-norm_distances, norm_distances), axis=1)\n",
    "    weights = np.where(edge_indices == indices.T, 1-norm_distances, norm_distances).prod(axis=1)\n",
    "\n",
    "#         print(np.product(np.where(edge_indices == indices.T, 1-norm_distances, norm_distances), axis=1).shape)\n",
    "#         print(np.where(edge_indices == indices.T, 1-norm_distances, norm_distances).shape)\n",
    "\n",
    "#         print(weights.shape)\n",
    "#     edge_indices = tuple(edge_indices.transpose(1,0,2).tolist())\n",
    "    edge_indices = list(map(tuple, edge_indices.transpose(1,0,2)))\n",
    "    return (values[edge_indices] * weights).sum(axis=0)"
   ]
  },
  {
   "cell_type": "code",
   "execution_count": 12,
   "id": "6bb1489a",
   "metadata": {},
   "outputs": [
    {
     "ename": "IndexError",
     "evalue": "too many indices for array: array is 1-dimensional, but 2 were indexed",
     "output_type": "error",
     "traceback": [
      "\u001b[1;31m---------------------------------------------------------------------------\u001b[0m",
      "\u001b[1;31mIndexError\u001b[0m                                Traceback (most recent call last)",
      "\u001b[1;32m<ipython-input-12-6106a066dd2d>\u001b[0m in \u001b[0;36m<module>\u001b[1;34m\u001b[0m\n\u001b[1;32m----> 1\u001b[1;33m \u001b[0mreg_grid_interp\u001b[0m\u001b[1;33m(\u001b[0m\u001b[0mpts\u001b[0m\u001b[1;33m,\u001b[0m \u001b[1;33m(\u001b[0m\u001b[0mx\u001b[0m\u001b[1;33m,\u001b[0m \u001b[0my\u001b[0m\u001b[1;33m,\u001b[0m \u001b[0mz\u001b[0m\u001b[1;33m)\u001b[0m\u001b[1;33m,\u001b[0m \u001b[0mdata\u001b[0m\u001b[1;33m)\u001b[0m\u001b[1;33m\u001b[0m\u001b[1;33m\u001b[0m\u001b[0m\n\u001b[0m",
      "\u001b[1;32m<ipython-input-11-c1cdcd0e61fd>\u001b[0m in \u001b[0;36mreg_grid_interp\u001b[1;34m(xi, grid, values)\u001b[0m\n\u001b[0;32m     23\u001b[0m \u001b[1;31m#     print(indices.shape)\u001b[0m\u001b[1;33m\u001b[0m\u001b[1;33m\u001b[0m\u001b[1;33m\u001b[0m\u001b[0m\n\u001b[0;32m     24\u001b[0m     \u001b[0mndim_axes\u001b[0m \u001b[1;33m=\u001b[0m \u001b[0mnp\u001b[0m\u001b[1;33m.\u001b[0m\u001b[0marange\u001b[0m\u001b[1;33m(\u001b[0m\u001b[0mndim\u001b[0m\u001b[1;33m)\u001b[0m\u001b[1;33m\u001b[0m\u001b[1;33m\u001b[0m\u001b[0m\n\u001b[1;32m---> 25\u001b[1;33m     \u001b[0mtmp\u001b[0m \u001b[1;33m=\u001b[0m \u001b[0mgrid\u001b[0m\u001b[1;33m[\u001b[0m\u001b[0mndim_axes\u001b[0m\u001b[1;33m,\u001b[0m \u001b[0mindices\u001b[0m\u001b[1;33m]\u001b[0m\u001b[1;33m\u001b[0m\u001b[1;33m\u001b[0m\u001b[0m\n\u001b[0m\u001b[0;32m     26\u001b[0m     \u001b[0mnorm_distances\u001b[0m \u001b[1;33m=\u001b[0m \u001b[1;33m(\u001b[0m\u001b[1;33m(\u001b[0m\u001b[0mxi\u001b[0m \u001b[1;33m-\u001b[0m \u001b[0mtmp\u001b[0m\u001b[1;33m)\u001b[0m \u001b[1;33m/\u001b[0m \u001b[1;33m(\u001b[0m\u001b[0mgrid\u001b[0m\u001b[1;33m[\u001b[0m\u001b[0mndim_axes\u001b[0m\u001b[1;33m,\u001b[0m \u001b[0mindices\u001b[0m\u001b[1;33m+\u001b[0m\u001b[1;36m1\u001b[0m\u001b[1;33m]\u001b[0m \u001b[1;33m-\u001b[0m \u001b[0mtmp\u001b[0m\u001b[1;33m)\u001b[0m\u001b[1;33m)\u001b[0m\u001b[1;33m.\u001b[0m\u001b[0mT\u001b[0m\u001b[1;33m\u001b[0m\u001b[1;33m\u001b[0m\u001b[0m\n\u001b[0;32m     27\u001b[0m     \u001b[0medge_indices\u001b[0m \u001b[1;33m=\u001b[0m \u001b[0mnp\u001b[0m\u001b[1;33m.\u001b[0m\u001b[0marray\u001b[0m\u001b[1;33m(\u001b[0m\u001b[0mlist\u001b[0m\u001b[1;33m(\u001b[0m\u001b[0mitertools\u001b[0m\u001b[1;33m.\u001b[0m\u001b[0mproduct\u001b[0m\u001b[1;33m(\u001b[0m\u001b[1;33m*\u001b[0m\u001b[1;33m[\u001b[0m\u001b[1;33m[\u001b[0m\u001b[0mi\u001b[0m\u001b[1;33m,\u001b[0m \u001b[0mi\u001b[0m \u001b[1;33m+\u001b[0m \u001b[1;36m1\u001b[0m\u001b[1;33m]\u001b[0m \u001b[1;32mfor\u001b[0m \u001b[0mi\u001b[0m \u001b[1;32min\u001b[0m \u001b[0mindices\u001b[0m\u001b[1;33m.\u001b[0m\u001b[0mT\u001b[0m\u001b[1;33m]\u001b[0m\u001b[1;33m)\u001b[0m\u001b[1;33m)\u001b[0m\u001b[1;33m)\u001b[0m\u001b[1;33m\u001b[0m\u001b[1;33m\u001b[0m\u001b[0m\n",
      "\u001b[1;31mIndexError\u001b[0m: too many indices for array: array is 1-dimensional, but 2 were indexed"
     ]
    }
   ],
   "source": [
    "reg_grid_interp(pts, (x, y, z), data)"
   ]
  },
  {
   "cell_type": "code",
   "execution_count": 541,
   "id": "31927a7f",
   "metadata": {},
   "outputs": [
    {
     "name": "stdout",
     "output_type": "stream",
     "text": [
      "The line_profiler extension is already loaded. To reload it, use:\n",
      "  %reload_ext line_profiler\n"
     ]
    }
   ],
   "source": [
    "%load_ext line_profiler"
   ]
  },
  {
   "cell_type": "code",
   "execution_count": 558,
   "id": "e59f6042",
   "metadata": {},
   "outputs": [],
   "source": [
    "prof_function = reg_grid_interp"
   ]
  },
  {
   "cell_type": "code",
   "execution_count": 559,
   "id": "87b2d238",
   "metadata": {},
   "outputs": [],
   "source": [
    "%lprun -f prof_function prof_function(pts, (x, y, z), data)"
   ]
  },
  {
   "cell_type": "code",
   "execution_count": null,
   "id": "efce78d3",
   "metadata": {},
   "outputs": [],
   "source": []
  },
  {
   "cell_type": "code",
   "execution_count": 35,
   "id": "c98963e9",
   "metadata": {},
   "outputs": [],
   "source": [
    "?np.prod"
   ]
  },
  {
   "cell_type": "code",
   "execution_count": 578,
   "id": "f638ba5a",
   "metadata": {},
   "outputs": [],
   "source": [
    "def find_indices(grid, xi):\n",
    "        # find relevant edges between which xi are situated\n",
    "        indices = []\n",
    "        # compute distance to lower edge in unity units\n",
    "        norm_distances = []\n",
    "        # check for out of bounds xi\n",
    "        out_of_bounds = np.zeros((xi.shape[1]), dtype=bool)\n",
    "        # iterate through dimensions\n",
    "        for x, grid in zip(xi, grid):\n",
    "            i = np.searchsorted(grid, x) - 1\n",
    "            i[i < 0] = 0\n",
    "            i[i > grid.size - 2] = grid.size - 2\n",
    "            indices.append(i)\n",
    "            norm_distances.append((x - grid[i]) /\n",
    "                                  (grid[i + 1] - grid[i]))\n",
    "\n",
    "        return indices, norm_distances\n",
    "\n",
    "def evaluate_linear(values, indices, norm_distances):\n",
    "        # slice for broadcasting over trailing dimensions in self.values\n",
    "        vslice = (slice(None),) + (None,)*(values.ndim - len(indices))\n",
    "#         print(vslice)\n",
    "        # find relevant values\n",
    "        # each i and i+1 represents a edge\n",
    "        edges = itertools.product(*[[i, i + 1] for i in indices])\n",
    "#         print(indices)\n",
    "        res = 0.\n",
    "        for a, edge_indices in enumerate(edges):\n",
    "#             print(edge_indices)\n",
    "            weight = 1.\n",
    "            for ei, i, yi in zip(edge_indices, indices, norm_distances):\n",
    "                weight *= np.where(ei == i, 1 - yi, yi)\n",
    "#             print(weight)\n",
    "#             print(edge_indices)\n",
    "#             print(values)\n",
    "#             print(values[edge_indices])\n",
    "#             print(weight, edge_indices)\n",
    "            \n",
    "            res += np.asarray(values[edge_indices]) * weight[vslice]\n",
    "        return res\n",
    "    \n",
    "def reg_grid_default(pts, points, values):\n",
    "    grid = tuple([np.asarray(p) for p in points])\n",
    "\n",
    "    values = np.asarray(values)\n",
    "\n",
    "    ndim = len(grid)\n",
    "    xi = _ndim_coords_from_arrays(pts, ndim=ndim)\n",
    "    xi_shape = xi.shape\n",
    "    xi = xi.reshape(-1, xi_shape[-1])\n",
    "#     print(xi.T)\n",
    "    indices, norm_distances = find_indices(grid, xi.T)\n",
    "#     print(indices, values.shape)\n",
    "    \n",
    "#     result = evaluate_linear(values, indices, norm_distances)\n",
    "    \n",
    "    vslice = (slice(None),) + (None,)*(values.ndim - len(indices))\n",
    "#         print(vslice)\n",
    "    # find relevant values\n",
    "    # each i and i+1 represents a edge\n",
    "    edges = itertools.product(*[[i, i + 1] for i in indices])\n",
    "#         print(indices)\n",
    "\n",
    "    res = 0.\n",
    "    for a, edge_indices in enumerate(edges):\n",
    "#             print(edge_indices)\n",
    "        \n",
    "#         weight = np.product([np.where(ei == i, 1 - yi, yi) for ei, i, yi in zip(edge_indices, indices, norm_distances)], axis=0)\n",
    "        weight = 1.\n",
    "        for ei, i, yi in zip(edge_indices, indices, norm_distances):\n",
    "            weight *= np.where(ei == i, 1 - yi, yi)\n",
    "#             print(weight)\n",
    "#             print(edge_indices)\n",
    "#             print(values)\n",
    "#             print(values[edge_indices])\n",
    "#             print(weight, edge_indices)\n",
    "#         print(weight)\n",
    "#         print(type(values))\n",
    "        res += values[edge_indices] * weight[vslice]\n",
    "    \n",
    "    return res.reshape(xi_shape[:-1] + values.shape[ndim:])"
   ]
  },
  {
   "cell_type": "code",
   "execution_count": 579,
   "id": "7eb2537c",
   "metadata": {},
   "outputs": [
    {
     "data": {
      "text/plain": [
       "array([ 78.3704337 , 205.71753648,  76.00304522, ..., 145.74687117,\n",
       "       114.959507  ,  72.36169083])"
      ]
     },
     "execution_count": 579,
     "metadata": {},
     "output_type": "execute_result"
    }
   ],
   "source": [
    "reg_grid_default(pts, (x, y, z), data)"
   ]
  },
  {
   "cell_type": "code",
   "execution_count": 580,
   "id": "35884908",
   "metadata": {},
   "outputs": [],
   "source": [
    "prof_function = reg_grid_default"
   ]
  },
  {
   "cell_type": "code",
   "execution_count": 581,
   "id": "e890c333",
   "metadata": {},
   "outputs": [],
   "source": [
    "%lprun -f prof_function prof_function(pts, (x, y, z), data)"
   ]
  },
  {
   "cell_type": "code",
   "execution_count": 342,
   "id": "7baf3cf8",
   "metadata": {},
   "outputs": [
    {
     "data": {
      "text/plain": [
       "array([[[[0, 0, 0],\n",
       "         [0, 0, 1],\n",
       "         [0, 0, 2]],\n",
       "\n",
       "        [[0, 1, 0],\n",
       "         [0, 1, 1],\n",
       "         [0, 1, 2]],\n",
       "\n",
       "        [[0, 2, 0],\n",
       "         [0, 2, 1],\n",
       "         [0, 2, 2]]],\n",
       "\n",
       "\n",
       "       [[[1, 0, 0],\n",
       "         [1, 0, 1],\n",
       "         [1, 0, 2]],\n",
       "\n",
       "        [[1, 1, 0],\n",
       "         [1, 1, 1],\n",
       "         [1, 1, 2]],\n",
       "\n",
       "        [[1, 2, 0],\n",
       "         [1, 2, 1],\n",
       "         [1, 2, 2]]]])"
      ]
     },
     "execution_count": 342,
     "metadata": {},
     "output_type": "execute_result"
    }
   ],
   "source": [
    "np.rollaxis(np.indices((2, 3, 3)), 0 , 4)"
   ]
  },
  {
   "cell_type": "code",
   "execution_count": 373,
   "id": "0fa49287",
   "metadata": {},
   "outputs": [
    {
     "name": "stdout",
     "output_type": "stream",
     "text": [
      "1.11 ms ± 13.6 µs per loop (mean ± std. dev. of 7 runs, 1000 loops each)\n"
     ]
    }
   ],
   "source": [
    "%timeit np.array(list(itertools.product(range(8), range(13), range(23))))"
   ]
  },
  {
   "cell_type": "code",
   "execution_count": 372,
   "id": "f7501968",
   "metadata": {},
   "outputs": [
    {
     "name": "stdout",
     "output_type": "stream",
     "text": [
      "39.5 µs ± 1.89 µs per loop (mean ± std. dev. of 7 runs, 10000 loops each)\n"
     ]
    }
   ],
   "source": [
    "%timeit np.rollaxis(np.asarray(np.meshgrid(range(2), range(3), range(3), indexing='ij')), 0, 4).reshape(-1,3)#.transpose(0,1,2,3)"
   ]
  },
  {
   "cell_type": "code",
   "execution_count": 357,
   "id": "d23d41ea",
   "metadata": {},
   "outputs": [
    {
     "data": {
      "text/plain": [
       "(3, 2, 3, 3)"
      ]
     },
     "execution_count": 357,
     "metadata": {},
     "output_type": "execute_result"
    }
   ],
   "source": [
    "np.indices((2, 3, 3)).shape"
   ]
  },
  {
   "cell_type": "code",
   "execution_count": 335,
   "id": "ab2ccbc4",
   "metadata": {},
   "outputs": [
    {
     "data": {
      "text/plain": [
       "array([[[[0, 0, 0],\n",
       "         [1, 1, 1]],\n",
       "\n",
       "        [[0, 0, 0],\n",
       "         [1, 1, 1]],\n",
       "\n",
       "        [[0, 0, 0],\n",
       "         [1, 1, 1]]],\n",
       "\n",
       "\n",
       "       [[[0, 0, 0],\n",
       "         [0, 0, 0]],\n",
       "\n",
       "        [[1, 1, 1],\n",
       "         [1, 1, 1]],\n",
       "\n",
       "        [[2, 2, 2],\n",
       "         [2, 2, 2]]],\n",
       "\n",
       "\n",
       "       [[[0, 1, 2],\n",
       "         [0, 1, 2]],\n",
       "\n",
       "        [[0, 1, 2],\n",
       "         [0, 1, 2]],\n",
       "\n",
       "        [[0, 1, 2],\n",
       "         [0, 1, 2]]]])"
      ]
     },
     "execution_count": 335,
     "metadata": {},
     "output_type": "execute_result"
    }
   ],
   "source": [
    "np.array(np.meshgrid(range(2), range(3), range(3)))"
   ]
  },
  {
   "cell_type": "code",
   "execution_count": 397,
   "id": "a0bc1d73",
   "metadata": {},
   "outputs": [],
   "source": [
    "a = np.arange(10)\n",
    "b = np.arange(5)"
   ]
  },
  {
   "cell_type": "code",
   "execution_count": 398,
   "id": "3ccd268f",
   "metadata": {},
   "outputs": [],
   "source": [
    "\n",
    "\n",
    "i = (a < 1.6).sum()-1"
   ]
  },
  {
   "cell_type": "code",
   "execution_count": 399,
   "id": "1a1b49a7",
   "metadata": {},
   "outputs": [
    {
     "data": {
      "text/plain": [
       "array([1, 2])"
      ]
     },
     "execution_count": 399,
     "metadata": {},
     "output_type": "execute_result"
    }
   ],
   "source": [
    "a[[i,i+1]]"
   ]
  },
  {
   "cell_type": "code",
   "execution_count": 396,
   "id": "560b9648",
   "metadata": {},
   "outputs": [
    {
     "data": {
      "text/plain": [
       "array([0, 1])"
      ]
     },
     "execution_count": 396,
     "metadata": {},
     "output_type": "execute_result"
    }
   ],
   "source": []
  },
  {
   "cell_type": "code",
   "execution_count": 400,
   "id": "f66653b3",
   "metadata": {},
   "outputs": [
    {
     "name": "stdout",
     "output_type": "stream",
     "text": [
      "3.17 µs ± 63.5 ns per loop (mean ± std. dev. of 7 runs, 100000 loops each)\n"
     ]
    }
   ],
   "source": [
    "%timeit (a < 1.6).sum()-1"
   ]
  },
  {
   "cell_type": "code",
   "execution_count": 401,
   "id": "97d4df2d",
   "metadata": {},
   "outputs": [
    {
     "name": "stdout",
     "output_type": "stream",
     "text": [
      "1.97 µs ± 87.1 ns per loop (mean ± std. dev. of 7 runs, 100000 loops each)\n"
     ]
    }
   ],
   "source": [
    "%timeit np.searchsorted(a, 1.6) - 1"
   ]
  },
  {
   "cell_type": "code",
   "execution_count": 402,
   "id": "0eae7559",
   "metadata": {},
   "outputs": [
    {
     "data": {
      "text/plain": [
       "1"
      ]
     },
     "execution_count": 402,
     "metadata": {},
     "output_type": "execute_result"
    }
   ],
   "source": [
    "np.searchsorted(a, 1.6) - 1"
   ]
  },
  {
   "cell_type": "code",
   "execution_count": 577,
   "id": "60658601",
   "metadata": {},
   "outputs": [
    {
     "data": {
      "text/plain": [
       "(slice(None, None, None), None, None, None)"
      ]
     },
     "execution_count": 577,
     "metadata": {},
     "output_type": "execute_result"
    }
   ],
   "source": [
    "(slice(None),) + (None,)*3"
   ]
  },
  {
   "cell_type": "code",
   "execution_count": 83,
   "id": "b95d8a6b",
   "metadata": {},
   "outputs": [],
   "source": [
    "import numpy as np\n",
    "a = np.arange(10,20)"
   ]
  },
  {
   "cell_type": "code",
   "execution_count": 84,
   "id": "5ee51e4c",
   "metadata": {},
   "outputs": [
    {
     "data": {
      "text/plain": [
       "array([10, 11, 12, 13, 14, 15, 16, 17, 18, 19])"
      ]
     },
     "execution_count": 84,
     "metadata": {},
     "output_type": "execute_result"
    }
   ],
   "source": [
    "a"
   ]
  },
  {
   "cell_type": "code",
   "execution_count": 85,
   "id": "dc1b97a7",
   "metadata": {},
   "outputs": [
    {
     "data": {
      "text/plain": [
       "array([11.32532305, 13.06436726, 11.32540726, 12.15959255, 16.13241347,\n",
       "       19.48812371])"
      ]
     },
     "execution_count": 85,
     "metadata": {},
     "output_type": "execute_result"
    }
   ],
   "source": [
    "xi = np.random.uniform(10,20,6)\n",
    "xi"
   ]
  },
  {
   "cell_type": "code",
   "execution_count": 94,
   "id": "190d0250",
   "metadata": {},
   "outputs": [],
   "source": [
    "idx = np.abs(a-np.floor(xi).reshape(-1,1)).argmin(1)"
   ]
  },
  {
   "cell_type": "code",
   "execution_count": 95,
   "id": "947c02d0",
   "metadata": {},
   "outputs": [
    {
     "data": {
      "text/plain": [
       "array([1, 3, 1, 2, 6, 9], dtype=int64)"
      ]
     },
     "execution_count": 95,
     "metadata": {},
     "output_type": "execute_result"
    }
   ],
   "source": [
    "idx"
   ]
  },
  {
   "cell_type": "code",
   "execution_count": 75,
   "id": "2111bf35",
   "metadata": {},
   "outputs": [
    {
     "data": {
      "text/plain": [
       "array([12, 19, 19, 10, 13, 14])"
      ]
     },
     "execution_count": 75,
     "metadata": {},
     "output_type": "execute_result"
    }
   ],
   "source": [
    "a[idx].flatten()"
   ]
  },
  {
   "cell_type": "code",
   "execution_count": 76,
   "id": "6426505b",
   "metadata": {},
   "outputs": [
    {
     "data": {
      "text/plain": [
       "array([12, 19, 19, 10, 13, 14])"
      ]
     },
     "execution_count": 76,
     "metadata": {},
     "output_type": "execute_result"
    }
   ],
   "source": [
    "a.ravel()[np.searchsorted(a.ravel(), xi.ravel()) - 1]"
   ]
  },
  {
   "cell_type": "code",
   "execution_count": 98,
   "id": "e34d962c",
   "metadata": {},
   "outputs": [],
   "source": [
    "def find_indices(arr, x):\n",
    "    if hasattr(x, \"__len__\"):\n",
    "        return [find_indices(arr, xi) for xi in x]\n",
    "    return np.abs(arr-np.floor(x)).argmin()"
   ]
  },
  {
   "cell_type": "code",
   "execution_count": 99,
   "id": "4b7008dc",
   "metadata": {},
   "outputs": [
    {
     "data": {
      "text/plain": [
       "1"
      ]
     },
     "execution_count": 99,
     "metadata": {},
     "output_type": "execute_result"
    }
   ],
   "source": [
    "find_indices(a, xi[0])"
   ]
  },
  {
   "cell_type": "code",
   "execution_count": 100,
   "id": "589fdb1b",
   "metadata": {},
   "outputs": [
    {
     "data": {
      "text/plain": [
       "[1, 3, 1, 2, 6, 9]"
      ]
     },
     "execution_count": 100,
     "metadata": {},
     "output_type": "execute_result"
    }
   ],
   "source": [
    "find_indices(a, xi)"
   ]
  },
  {
   "cell_type": "code",
   "execution_count": 101,
   "id": "bf837d22",
   "metadata": {},
   "outputs": [
    {
     "data": {
      "text/plain": [
       "array([1, 3, 1, 2, 6, 9], dtype=int64)"
      ]
     },
     "execution_count": 101,
     "metadata": {},
     "output_type": "execute_result"
    }
   ],
   "source": [
    "np.searchsorted(a, xi) - 1"
   ]
  },
  {
   "cell_type": "code",
   "execution_count": 102,
   "id": "915a24e2",
   "metadata": {},
   "outputs": [
    {
     "name": "stdout",
     "output_type": "stream",
     "text": [
      "2.92 µs ± 51.2 ns per loop (mean ± std. dev. of 7 runs, 100000 loops each)\n"
     ]
    }
   ],
   "source": [
    "%timeit find_indices(a, xi[0])"
   ]
  },
  {
   "cell_type": "code",
   "execution_count": 103,
   "id": "03945d66",
   "metadata": {},
   "outputs": [
    {
     "name": "stdout",
     "output_type": "stream",
     "text": [
      "2.59 µs ± 105 ns per loop (mean ± std. dev. of 7 runs, 100000 loops each)\n"
     ]
    }
   ],
   "source": [
    "%timeit np.searchsorted(a, xi[0]) - 1"
   ]
  },
  {
   "cell_type": "code",
   "execution_count": 104,
   "id": "da64d973",
   "metadata": {},
   "outputs": [
    {
     "name": "stdout",
     "output_type": "stream",
     "text": [
      "18.7 µs ± 419 ns per loop (mean ± std. dev. of 7 runs, 100000 loops each)\n"
     ]
    }
   ],
   "source": [
    "%timeit find_indices(a, xi)"
   ]
  },
  {
   "cell_type": "code",
   "execution_count": 105,
   "id": "bd848728",
   "metadata": {},
   "outputs": [
    {
     "name": "stdout",
     "output_type": "stream",
     "text": [
      "2.5 µs ± 55.5 ns per loop (mean ± std. dev. of 7 runs, 100000 loops each)\n"
     ]
    }
   ],
   "source": [
    "%timeit np.searchsorted(a, xi) - 1"
   ]
  },
  {
   "cell_type": "code",
   "execution_count": 160,
   "id": "a6739e6e",
   "metadata": {},
   "outputs": [
    {
     "data": {
      "text/plain": [
       "[(0, 2, 4),\n",
       " (0, 2, 5),\n",
       " (0, 3, 4),\n",
       " (0, 3, 5),\n",
       " (1, 2, 4),\n",
       " (1, 2, 5),\n",
       " (1, 3, 4),\n",
       " (1, 3, 5)]"
      ]
     },
     "execution_count": 160,
     "metadata": {},
     "output_type": "execute_result"
    }
   ],
   "source": [
    "indcies = np.arange(6).reshape(-1,2)\n",
    "edges = list(itertools.product(*indcies))\n",
    "edges"
   ]
  },
  {
   "cell_type": "code",
   "execution_count": 167,
   "id": "3bd8561a",
   "metadata": {},
   "outputs": [
    {
     "name": "stdout",
     "output_type": "stream",
     "text": [
      "0 2 4\n",
      "0 2 5\n",
      "0 3 4\n",
      "0 3 5\n",
      "1 2 4\n",
      "1 2 5\n",
      "1 3 4\n",
      "1 3 5\n"
     ]
    }
   ],
   "source": [
    "for i in indcies[0]:\n",
    "    for j in indcies[1]:\n",
    "        for k in indcies[2]:\n",
    "            print(i, j, k)"
   ]
  },
  {
   "cell_type": "code",
   "execution_count": null,
   "id": "7c498b1f",
   "metadata": {},
   "outputs": [],
   "source": []
  }
 ],
 "metadata": {
  "kernelspec": {
   "display_name": "Python 3",
   "language": "python",
   "name": "python3"
  },
  "language_info": {
   "codemirror_mode": {
    "name": "ipython",
    "version": 3
   },
   "file_extension": ".py",
   "mimetype": "text/x-python",
   "name": "python",
   "nbconvert_exporter": "python",
   "pygments_lexer": "ipython3",
   "version": "3.8.8"
  }
 },
 "nbformat": 4,
 "nbformat_minor": 5
}
