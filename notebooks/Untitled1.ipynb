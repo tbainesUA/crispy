{
 "cells": [
  {
   "cell_type": "code",
   "execution_count": 1,
   "id": "c99effe1",
   "metadata": {},
   "outputs": [],
   "source": [
    "import numpy as np"
   ]
  },
  {
   "cell_type": "code",
   "execution_count": 5,
   "id": "ad21ef6f",
   "metadata": {},
   "outputs": [],
   "source": [
    "width = 40 # in\n",
    "length = 66 # in\n",
    "angle = np.deg2rad(39)"
   ]
  },
  {
   "cell_type": "code",
   "execution_count": 6,
   "id": "7d197ab9",
   "metadata": {},
   "outputs": [
    {
     "data": {
      "text/plain": [
       "25.172815641993495"
      ]
     },
     "execution_count": 6,
     "metadata": {},
     "output_type": "execute_result"
    }
   ],
   "source": [
    "width * np.sin(angle)"
   ]
  },
  {
   "cell_type": "code",
   "execution_count": 7,
   "id": "be039b21",
   "metadata": {},
   "outputs": [
    {
     "data": {
      "text/plain": [
       "31.085838458278836"
      ]
     },
     "execution_count": 7,
     "metadata": {},
     "output_type": "execute_result"
    }
   ],
   "source": [
    "width * np.cos(angle)"
   ]
  },
  {
   "cell_type": "code",
   "execution_count": 9,
   "id": "36e05aef",
   "metadata": {},
   "outputs": [
    {
     "data": {
      "text/plain": [
       "38.04750745361986"
      ]
     },
     "execution_count": 9,
     "metadata": {},
     "output_type": "execute_result"
    }
   ],
   "source": [
    "np.degrees(np.arccos(31.5/width))"
   ]
  },
  {
   "cell_type": "code",
   "execution_count": null,
   "id": "5ca577fe",
   "metadata": {},
   "outputs": [],
   "source": []
  }
 ],
 "metadata": {
  "kernelspec": {
   "display_name": "Python 3",
   "language": "python",
   "name": "python3"
  },
  "language_info": {
   "codemirror_mode": {
    "name": "ipython",
    "version": 3
   },
   "file_extension": ".py",
   "mimetype": "text/x-python",
   "name": "python",
   "nbconvert_exporter": "python",
   "pygments_lexer": "ipython3",
   "version": "3.8.8"
  }
 },
 "nbformat": 4,
 "nbformat_minor": 5
}
